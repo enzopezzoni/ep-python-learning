{
 "cells": [
  {
   "cell_type": "code",
   "execution_count": 84,
   "metadata": {},
   "outputs": [
    {
     "name": "stdout",
     "output_type": "stream",
     "text": [
      "0.5\n"
     ]
    }
   ],
   "source": [
    "# 6.1 Games of Chance\n",
    "import random\n",
    "# A. Simulate flipping a coin 100 times, then print the percentage of results that were \"heads\"\n",
    "\n",
    "#We need a way for us to do the same stuff (gennerate random number 0,1 X100) => for loop that loops 100 times (or N times)\n",
    "count_head = 0\n",
    "count_tail = 0\n",
    "for i in range(100):\n",
    "    #Within the loop, we need a counter to account for how many times we are flipping heads and tails\n",
    "    flip_outcome = random.randint(0,1)\n",
    "    if flip_outcome == 0: #head\n",
    "        count_head = count_head + 1\n",
    "    else:\n",
    "        count_tail = count_tail + 1\n",
    "\n",
    "#Outside loop, we need a calculator to find out the percentage of results that were head \n",
    "perc_head = count_head/100\n",
    "print(perc_head)\n"
   ]
  },
  {
   "cell_type": "code",
   "execution_count": 85,
   "metadata": {},
   "outputs": [],
   "source": [
    "#x = ['ariel','ammar','kerry','israel']\n"
   ]
  },
  {
   "cell_type": "code",
   "execution_count": 86,
   "metadata": {},
   "outputs": [
    {
     "name": "stdout",
     "output_type": "stream",
     "text": [
      "Flip #1, the result was : blue\n",
      "Flip #2, the result was : blue\n",
      "Flip #3, the result was : blue\n",
      "Flip #4, the result was : yellow\n"
     ]
    }
   ],
   "source": [
    "# B. Randomly choose an element until you choose \"yellow\", incrememting flips each time\n",
    "#    Print a message each time including how many flips have been executed and what the result was\n",
    "import random\n",
    "\n",
    "flip = 0\n",
    "blue = 0\n",
    "sides = [\"blue\", \"blue\", \"blue\", \"blue\", \"yellow\", \"blue\"]\n",
    "color_outcome = ''\n",
    "\n",
    "\n",
    "while (color_outcome != 'yellow'):    \n",
    "    flip_outcome = random.randint(0,5)\n",
    "    color_outcome = sides[flip_outcome]\n",
    "    flip += 1\n",
    "    print(f'Flip #{flip}, the result was : {sides[flip_outcome]}')\n",
    "\n"
   ]
  },
  {
   "cell_type": "code",
   "execution_count": 87,
   "metadata": {},
   "outputs": [
    {
     "name": "stdout",
     "output_type": "stream",
     "text": [
      "Rounds #1 - Score = 8\n",
      "Rounds #2 - Score = 12\n"
     ]
    }
   ],
   "source": [
    "# C. Simulate a slot machine with the following rules:\n",
    "#    i. Each turn, the player loses 1 point and three random elements are chosen\n",
    "#    ii. If the three elements are all the same, the player wins 2 points\n",
    "#    iii. If all three elements are different, the player wins 5 points\n",
    "#    Continue taking turns until the player has 0 points or more than 10 points\n",
    "#    Each turn, print a message describing the outcome of the machine\n",
    "\n",
    "elements = [\"red\", \"green\", \"blue\"]\n",
    "player_points = 5\n",
    "rounds = 0\n",
    "machine_outcome_1 = ''\n",
    "machine_outcome_2 = ''\n",
    "machine_outcome_3 = ''\n",
    "\n",
    "while player_points > 0 and player_points <= 10:\n",
    "\n",
    "    machine_outcome_1 = elements[random.randint(0,2)]\n",
    "    machine_outcome_2 = elements[random.randint(0,2)]\n",
    "    machine_outcome_3 = elements[random.randint(0,2)]\n",
    "    player_points -= 1\n",
    "\n",
    "    if machine_outcome_1 == machine_outcome_2 == machine_outcome_3:\n",
    "        player_points += 2\n",
    "        rounds =+ 1\n",
    "        print(f'Rounds #{rounds} - Score = {player_points}')\n",
    "\n",
    "    elif machine_outcome_1 != machine_outcome_2 != machine_outcome_3:\n",
    "        player_points += 5\n",
    "        rounds += 1\n",
    "        print(f'Rounds #{rounds} - Score = {player_points}')"
   ]
  },
  {
   "cell_type": "code",
   "execution_count": 88,
   "metadata": {},
   "outputs": [
    {
     "name": "stdout",
     "output_type": "stream",
     "text": [
      "Space Needle has lat 47.62053000000003 and lon of -122.34927999999996\n"
     ]
    }
   ],
   "source": [
    "# 6.2 GeoCoder Road Trip\n",
    "destinations = [\"Space Needle\",\n",
    "                \"Crater Lake\",\n",
    "                \"Golden Gate Bridge\",\n",
    "                \"Yosemite National Park\",\n",
    "                \"Las Vegas, Nevada\",\n",
    "                \"Grand Canyon National Park\",\n",
    "                \"Aspen, Colorado\",\n",
    "                \"Mount Rushmore\",\n",
    "                \"Yellowstone National Park\",\n",
    "                \"Sandpoint, Idaho\",\n",
    "                \"Banff National Park\",\n",
    "                \"Capilano Suspension Bridge\"]\n",
    "\n",
    "# A. Install and import the geocoder library: https://geocoder.readthedocs.io/index.html\n",
    "#    Then, print a statement describing the latitude and longitude of our first destination, Space Needle\n",
    "\n",
    "import geocoder\n",
    "i = 0\n",
    "location_0 = geocoder.arcgis(destinations[i])\n",
    "print(f'{destinations[i]} has lat {location_0.lat} and lon of {location_0.lng}')\n"
   ]
  },
  {
   "cell_type": "code",
   "execution_count": null,
   "metadata": {},
   "outputs": [],
   "source": []
  },
  {
   "cell_type": "code",
   "execution_count": 89,
   "metadata": {},
   "outputs": [
    {
     "name": "stdout",
     "output_type": "stream",
     "text": [
      "the southern destination is Grand Canyon National Park with a latitude of 36.058200000000056\n"
     ]
    }
   ],
   "source": [
    "# B. Find the farthest south destination (the result with the lowest latitude)\n",
    "\n",
    "southest_destination_lat = 90.00\n",
    "southest_destination = ''\n",
    "\n",
    "for destination_idx in range(len(destinations)):\n",
    "\n",
    "    destination_lat = geocoder.arcgis(destinations[destination_idx]).lat\n",
    "\n",
    "    if southest_destination_lat > destination_lat:\n",
    "        southest_destination_lat = destination_lat\n",
    "        southest_destination = destinations[destination_idx]\n",
    "    else:\n",
    "        pass\n",
    "\n",
    "print(f\"the southern destination is {southest_destination} with a latitude of {southest_destination_lat}\")"
   ]
  },
  {
   "cell_type": "code",
   "execution_count": 90,
   "metadata": {},
   "outputs": [
    {
     "name": "stdout",
     "output_type": "stream",
     "text": [
      "Next, we travel SouthEast to Crater Lake\n",
      "Next, we travel SouthWest to Golden Gate Bridge\n",
      "Next, we travel SouthEast to Yosemite National Park\n",
      "Next, we travel SouthEast to Las Vegas, Nevada\n",
      "Next, we travel SouthEast to Grand Canyon National Park\n",
      "Next, we travel SouthEast to Aspen, Colorado\n",
      "Next, we travel SouthEast to Mount Rushmore\n",
      "Next, we travel SouthEast to Yellowstone National Park\n",
      "Next, we travel NorthEast to Sandpoint, Idaho\n",
      "Next, we travel NorthEast to Banff National Park\n"
     ]
    }
   ],
   "source": [
    "# C. For each destination, describe the direction being traveled from the previous destination\n",
    "#    Hint: You can keep track of where we are using current_lat and current_lng variables\n",
    "#    If the next destination has a greater latitude, it means we're going North\n",
    "#    If the next destination has a greater longitude, it means we're going West\n",
    "#    Print a message in the following format: \"Next, we travel SouthWest to XXXXX\"\n",
    "\n",
    "current_destination = destinations[0]\n",
    "current_lat = geocoder.arcgis(destinations[0]).lat\n",
    "current_lng = geocoder.arcgis(destinations[0]).lng\n",
    "next_hor = ''\n",
    "next_vert = ''\n",
    "\n",
    "for destination_idx in range(len(destinations)):\n",
    "\n",
    "    next_destination_idx = destination_idx + 1\n",
    "    next_destination = destinations[next_destination_idx]\n",
    "\n",
    "    if current_lat > geocoder.arcgis(destinations[next_destination_idx]).lat:\n",
    "        next_vert = 'South'\n",
    "    else:\n",
    "        next_vert = 'North'\n",
    "        \n",
    "    if  current_lng > geocoder.arcgis(destinations[next_destination_idx]).lng:\n",
    "        next_hor = 'West'\n",
    "    else:\n",
    "        next_hor = 'East'\n",
    "\n",
    "    if next_destination_idx == len(destinations) - 1:\n",
    "        break\n",
    "\n",
    "    print(f'Next, we travel {next_vert}{next_hor} to {next_destination}')"
   ]
  },
  {
   "cell_type": "code",
   "execution_count": 91,
   "metadata": {},
   "outputs": [
    {
     "name": "stdout",
     "output_type": "stream",
     "text": [
      "Welcome to ToDoVille! Here are your items:\n"
     ]
    }
   ],
   "source": [
    "# 6.3 So Much To Do\n",
    "# Reading code can be just as important as writing code!\n",
    "# Add a comment to each line of this python script, attempting to explain what it does\n",
    "\n",
    "with open(\"./to_do_list.txt\", \"w+\") as file: #Open OR Create \"To_Do_List.txt\" in a+ mode (reading and writing ) and assign the variable File for future references\n",
    "    print(\"Welcome to ToDoVille! Here are your items:\") #print a welcome message when lauching the program\n",
    "    file.seek(0) #position the pointer at the beginning of the file when lauching the program\n",
    "    lines = file.readlines() #allows the program to read the file when lauching the program\n",
    "    for line in lines: #loop through each line of what the program is reading in the file\n",
    "        print(line) #print each line one by one\n",
    "    current_command = \"\" #store the variable of the command from the user\n",
    "    while(current_command != \"q\"): #ensure that we can break the loop by typing \"q\"\n",
    "        current_command = input(\"Awaiting further commands. [q] to quit, [a] to add new item, [p] to print list: \") #prompt de user to command something\n",
    "        if(current_command == \"a\"): #run this code if user wants to add a new item\n",
    "            new_item = input(\"Type your todo below: \") #prompt the user to input what he wants to write in the file\n",
    "            file.write(new_item + \"\\n\") #write in the file what the users asked to write and add a breakline\n",
    "        elif(current_command == \"p\"): #run this code if the user wants to print his To_do_list\n",
    "            file.seek(0) #position the pointer at the beginning of the file\n",
    "            lines = file.readlines() #allow the program to read the file\n",
    "            for line in lines: #loop through each line of what the program is reading in the file\n",
    "                print(line) #print each line one by one"
   ]
  },
  {
   "cell_type": "code",
   "execution_count": 92,
   "metadata": {},
   "outputs": [],
   "source": [
    "# 6.4 Writing to CSV\n",
    "employees = [\n",
    "  {\n",
    "    \"first_name\": \"Hennah\", \n",
    "    \"last_name\": \"Chadwick\",\n",
    "    \"job_title\": \"Vice President\",\n",
    "    \"hire_date\": 1985,\n",
    "    \"performance_review\": \"excellent\"\n",
    "  }, {\n",
    "    \"first_name\": \"Michael\", \n",
    "    \"last_name\": \"Bolton\",\n",
    "    \"job_title\": \"Programmer\",\n",
    "    \"hire_date\": 1995,\n",
    "    \"performance_review\": \"poor\"\n",
    "  }, {\n",
    "    \"first_name\": \"Ellesse\", \n",
    "    \"last_name\": \"Jaramillo\",\n",
    "    \"job_title\": \"Programmer\",\n",
    "    \"hire_date\": 1989,\n",
    "    \"performance_review\": \"poor\"\n",
    "  }, {\n",
    "    \"first_name\": \"Samir\", \n",
    "    \"last_name\": \"Nagheenanajar\",\n",
    "    \"job_title\": \"Programmer\",\n",
    "    \"hire_date\": 1974,\n",
    "    \"performance_review\": \"fair\"\n",
    "  }, {\n",
    "    \"first_name\": \"Milton\", \n",
    "    \"last_name\": \"Waddams\",\n",
    "    \"job_title\": \"Collator\",\n",
    "    \"hire_date\": 1974,\n",
    "    \"performance_review\": \"does he even work here?\"\n",
    "  }, {\n",
    "    \"first_name\": \"Bob\", \n",
    "    \"last_name\": \"Porter\",\n",
    "    \"job_title\": \"Consultant\",\n",
    "    \"hire_date\": 1999,\n",
    "    \"performance_review\": \"excellent\"\n",
    "  }, {\n",
    "    \"first_name\": \"Bob\", \n",
    "    \"last_name\": \"Slydell\",\n",
    "    \"job_title\": \"Consultant\",\n",
    "    \"hire_date\": 1999,\n",
    "    \"performance_review\": \"excellent\"\n",
    "  }\n",
    "]\n",
    "# A. Write the above list of dictionaries to a csv file\n",
    "#    Include a column named \"action_item\" with the following logic:\n",
    "#    If the performance_review is \"poor\" the action_item should be \"terminate\"\n",
    "#    If the performance_review is \"excellent\" the action_item should be \"bonus\"\n",
    "#    Otherwise, the action_item should be \"attend GA workshop\"\n",
    "\n",
    "for employee_idx in range(len(employees)):\n",
    "\n",
    "  if employees[employee_idx][\"performance_review\"] == \"excellent\":\n",
    "    employees[employee_idx]['action_item'] = 'bonus'\n",
    "  elif employees[employee_idx][\"performance_review\"] == \"poor\":\n",
    "    employees[employee_idx]['action_item'] = 'terminate'\n",
    "  else:\n",
    "    employees[employee_idx]['action_item'] = 'attend GA workshop'\n",
    "\n",
    "\n",
    "import csv\n",
    "\n",
    "with open(\"./consultant_sheet.csv\", \"a+\") as employee_sheet:\n",
    "  fieldnames = [\"first_name\", \"last_name\", \"job_title\", \"hire_date\", \"performance_review\", \"action_item\"]\n",
    "  writer = csv.DictWriter(employee_sheet, fieldnames=fieldnames)\n",
    "  writer.writeheader()\n",
    "  for employee in employees:\n",
    "    writer.writerow(employee)\n"
   ]
  },
  {
   "cell_type": "code",
   "execution_count": 93,
   "metadata": {},
   "outputs": [
    {
     "name": "stdout",
     "output_type": "stream",
     "text": [
      "Welcome to the arena of RPS!\n",
      "Here are the final results 'Ultimate RPS Challenge' :\n",
      "You have won 2 times and lost 1 times\n"
     ]
    }
   ],
   "source": [
    "# 6.5 Stretch Goal: Ultimate RPS Challenge\n",
    "# Complete the following game to create csv records of each round's results\n",
    "import random\n",
    "import csv\n",
    "import os\n",
    "choices = [\"rock\", \"paper\", \"scissors\"]\n",
    "headings = [\"player_choice\", \"computer_choice\", \"result\"]\n",
    "\n",
    "# This is the logic to create the results csv if it doesn't exist already\n",
    "if not os.path.exists(\"./rock_paper_scissors_results.csv\"):\n",
    "    with open(\"./rock_paper_scissors_results.csv\", \"w\") as file:\n",
    "        # A. Use csv.DictWriter to write the headings into the file\n",
    "        writer = csv.DictWriter(file, fieldnames=headings)\n",
    "        writer.writeheader()\n",
    "        \n",
    "def store_result(player_choice, computer_choice, result, file):\n",
    "    # B. This function should write game results to the csv file using csv.DictWriter\n",
    "    data_to_append = {\"player_choice\" : player_choice, \"computer_choice\" : computer_choice, \"result\" : result}\n",
    "    with open(\"./rock_paper_scissors_results.csv\", \"a\") as file:\n",
    "         writer = csv.DictWriter(file, fieldnames=headings)\n",
    "         writer.writerow(data_to_append)\n",
    "    \n",
    "\n",
    "with open(\"./rock_paper_scissors_results.csv\", \"a+\") as file:\n",
    "    \n",
    "    current_choice = \"\"\n",
    "    print(\"Welcome to the arena of RPS!\")\n",
    "\n",
    "    while(current_choice != \"q\"):\n",
    "        # C. Solicit the user's input of the three choices. Include a choice to hit q to quit as well.\n",
    "        current_choice = input(\"Please pick a weapon between 'rock', 'paper', and 'scissors' or write 'q' to quit\")\n",
    "        # D. Set a variable named computer_choice equal to a random choice from the choices list\n",
    "        computer_choice = choices[random.randint(0,2)]\n",
    "\n",
    "\n",
    "        if(current_choice == \"rock\"):\n",
    "            if(computer_choice == \"paper\"):\n",
    "                store_result(current_choice, computer_choice, \"loss\", file)\n",
    "            elif(computer_choice == \"scissors\"):\n",
    "                store_result(current_choice, computer_choice, \"win\", file)\n",
    "            else:\n",
    "                store_result(current_choice, computer_choice, \"tie\", file)\n",
    "        elif(current_choice == \"paper\"):\n",
    "            if(computer_choice == \"scissors\"):\n",
    "                store_result(current_choice, computer_choice, \"loss\", file)\n",
    "            elif(computer_choice == \"rock\"):\n",
    "                store_result(current_choice, computer_choice, \"win\", file)\n",
    "            else:\n",
    "                store_result(current_choice, computer_choice, \"tie\", file)\n",
    "        elif(current_choice == \"scissors\"):\n",
    "            if(computer_choice == \"rock\"):\n",
    "                store_result(current_choice, computer_choice, \"loss\", file)\n",
    "            elif(computer_choice == \"paper\"):\n",
    "                store_result(current_choice, computer_choice, \"win\", file)\n",
    "            else:\n",
    "                store_result(current_choice, computer_choice, \"tie\", file)\n",
    "        elif(current_choice != \"q\"):\n",
    "            print(\"Invalid choice! Try again.\")\n",
    "\n",
    "# E. Analyze the csv of results by counting how many wins and losses there have been using csv.DictReader\n",
    "with open(\"./rock_paper_scissors_results.csv\", \"r\") as file:\n",
    "    wins = 0\n",
    "    losses = 0\n",
    "    reader = csv.DictReader(file)\n",
    "    for round in reader:\n",
    "        if round['result'] == \"win\":\n",
    "            wins += 1\n",
    "        elif round['result'] == \"loss\":\n",
    "            losses += 1\n",
    "        else:\n",
    "            pass\n",
    "\n",
    "#   Print a message listing the total wins and losses in the csv\n",
    "print(f\"Here are the final results 'Ultimate RPS Challenge' :\\nYou have won {wins} times and lost {losses} times\")"
   ]
  }
 ],
 "metadata": {
  "kernelspec": {
   "display_name": "Python 3.10.4 64-bit",
   "language": "python",
   "name": "python3"
  },
  "language_info": {
   "codemirror_mode": {
    "name": "ipython",
    "version": 3
   },
   "file_extension": ".py",
   "mimetype": "text/x-python",
   "name": "python",
   "nbconvert_exporter": "python",
   "pygments_lexer": "ipython3",
   "version": "3.10.4"
  },
  "vscode": {
   "interpreter": {
    "hash": "aee8b7b246df8f9039afb4144a1f6fd8d2ca17a180786b69acc140d282b71a49"
   }
  }
 },
 "nbformat": 4,
 "nbformat_minor": 4
}
