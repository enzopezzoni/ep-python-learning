{
 "cells": [
  {
   "cell_type": "code",
   "execution_count": 25,
   "metadata": {},
   "outputs": [
    {
     "name": "stdout",
     "output_type": "stream",
     "text": [
      "Hello\n"
     ]
    }
   ],
   "source": [
    "#function definition\n",
    "def say_hello():\n",
    "    print('Hello')\n",
    "\n",
    "#function call\n",
    "say_hello()"
   ]
  },
  {
   "cell_type": "code",
   "execution_count": 26,
   "metadata": {},
   "outputs": [
    {
     "name": "stdout",
     "output_type": "stream",
     "text": [
      "Yey there Enzo\n",
      "Yey there Princeton\n"
     ]
    }
   ],
   "source": [
    "def say_hello_with_name(name):\n",
    "    print(f'Yey there {name}')\n",
    "\n",
    "say_hello_with_name('Enzo')\n",
    "say_hello_with_name('Princeton')"
   ]
  },
  {
   "cell_type": "code",
   "execution_count": 27,
   "metadata": {},
   "outputs": [
    {
     "data": {
      "text/plain": [
       "30"
      ]
     },
     "execution_count": 27,
     "metadata": {},
     "output_type": "execute_result"
    }
   ],
   "source": [
    "#function most often return a value\n",
    "\n",
    "def add_two(num1, num2):\n",
    "    return num1 + num2\n",
    "\n",
    "add_two(10, 20)"
   ]
  },
  {
   "cell_type": "code",
   "execution_count": 28,
   "metadata": {},
   "outputs": [
    {
     "data": {
      "text/plain": [
       "67"
      ]
     },
     "execution_count": 28,
     "metadata": {},
     "output_type": "execute_result"
    }
   ],
   "source": [
    "#write a function to return the sum of the numbers in a list\n",
    "\n",
    "def sum_list(a_list):\n",
    "    total = 0\n",
    "    for num in a_list:\n",
    "        total += num\n",
    "    return total\n",
    "\n",
    "random_list = [1, 5, 10, -8]\n",
    "sum_list(random_list)\n",
    "sum_list([1, 10, 56])"
   ]
  },
  {
   "cell_type": "code",
   "execution_count": 29,
   "metadata": {},
   "outputs": [
    {
     "name": "stdout",
     "output_type": "stream",
     "text": [
      "True\n",
      "False\n"
     ]
    }
   ],
   "source": [
    "#write a functionthat has two parameters : a string, and a character\n",
    "#the function must return True if the character is in the string, False otherwise\n",
    "\n",
    "def char_check(string, char):\n",
    "    if char in string:\n",
    "        return True #if True in the first condition, then we dont need a else\n",
    "    return False\n",
    "\n",
    "print(char_check('enzo', 'e'))\n",
    "print(char_check('enzo', 't'))\n",
    "\n",
    "#functions that return a boolean values are often names with 'is'\n",
    "#as a prefix"
   ]
  },
  {
   "cell_type": "code",
   "execution_count": 30,
   "metadata": {},
   "outputs": [
    {
     "data": {
      "text/plain": [
       "[-56, -89]"
      ]
     },
     "execution_count": 30,
     "metadata": {},
     "output_type": "execute_result"
    }
   ],
   "source": [
    "#write a function that that takes a list and returns a new list\n",
    "#with only the negative numbers\n",
    "\n",
    "def get_negatives(the_list):\n",
    "    negatives =[]\n",
    "    for num in the_list:\n",
    "        if num < 0:\n",
    "            negatives.append(num)\n",
    "    \n",
    "    return negatives\n",
    "\n",
    "random_list = [5, 8, 15, -56, -89]\n",
    "get_negatives(random_list)"
   ]
  },
  {
   "cell_type": "code",
   "execution_count": 31,
   "metadata": {},
   "outputs": [
    {
     "data": {
      "text/plain": [
       "20"
      ]
     },
     "execution_count": 31,
     "metadata": {},
     "output_type": "execute_result"
    }
   ],
   "source": [
    "#how do we write functions that can accept any number of arguments\n",
    "#we use *args\n",
    "\n",
    "def add(*args):\n",
    "    total = 0\n",
    "    for item in args:\n",
    "        total += item\n",
    "    return total\n",
    "\n",
    "add(1, 5, 6, 8)\n"
   ]
  },
  {
   "cell_type": "code",
   "execution_count": 32,
   "metadata": {},
   "outputs": [
    {
     "name": "stdout",
     "output_type": "stream",
     "text": [
      "a = 0, b = 0\n",
      "a = 15, b = 0\n",
      "a = 5, b = -52\n"
     ]
    }
   ],
   "source": [
    "#positional vs keyword arguments\n",
    "\n",
    "def func(a, b):\n",
    "    print(f'a = {a}, b = {b}')\n",
    "\n",
    "#func(10, 20)\n",
    "\n",
    "#we can define functions and then call them with arguments in any order .... if they are keyword argments\n",
    "#here x and y are keyword arguments, they also are default arguments\n",
    "\n",
    "def bar(x = 0, y = 0):\n",
    "    print(f'a = {x}, b = {y}')\n",
    "\n",
    "bar()\n",
    "bar(x = 15)\n",
    "bar(y = -52, x = 5)"
   ]
  },
  {
   "cell_type": "code",
   "execution_count": 33,
   "metadata": {},
   "outputs": [
    {
     "name": "stdout",
     "output_type": "stream",
     "text": [
      "Priceton...Ebanks Hello World\n"
     ]
    }
   ],
   "source": [
    "#change the keyword arguments of the print()\n",
    "\n",
    "first_name = 'Priceton'\n",
    "last_name = 'Ebanks'\n",
    "print(first_name, last_name, sep=\"...\", end=\" \")\n",
    "print(\"Hello World\")"
   ]
  },
  {
   "cell_type": "code",
   "execution_count": 34,
   "metadata": {},
   "outputs": [
    {
     "name": "stdout",
     "output_type": "stream",
     "text": [
      "Enzo\n",
      "Your hobbies are :  Chess, Writing, Surfing, \n",
      "Romain\n",
      "Your hobbies are :  Chess, Reading, \n",
      "city = Toronto\n",
      "age = 30\n"
     ]
    }
   ],
   "source": [
    "#if we have positional, variable args and keyowords args.\n",
    "#positional args MUST go first\n",
    "#variable args next\n",
    "#keyword args next\n",
    "\n",
    "def baz(name, *args, **kwargs):\n",
    "    print(name)\n",
    "\n",
    "    hobbies = ''\n",
    "    for item in args:\n",
    "        hobbies += item + ', '\n",
    "\n",
    "    print('Your hobbies are : ', hobbies)\n",
    "\n",
    "    for key in kwargs:\n",
    "        print(f'{key} = {kwargs[key]}')\n",
    "\n",
    "baz('Enzo', 'Chess', 'Writing', 'Surfing')\n",
    "baz('Romain', 'Chess', 'Reading', city='Toronto', age = 30)"
   ]
  },
  {
   "cell_type": "code",
   "execution_count": 35,
   "metadata": {},
   "outputs": [],
   "source": [
    "#lambda functions\n",
    "#single line, very simple, we dont need to call them repeatedly (only once)\n",
    "\n",
    "def add(a, b):\n",
    "    return a + b\n",
    "\n",
    "#as a lambda function\n",
    "\n",
    "add = lambda a, b : a + b"
   ]
  }
 ],
 "metadata": {
  "kernelspec": {
   "display_name": "Python 3.10.4 64-bit",
   "language": "python",
   "name": "python3"
  },
  "language_info": {
   "codemirror_mode": {
    "name": "ipython",
    "version": 3
   },
   "file_extension": ".py",
   "mimetype": "text/x-python",
   "name": "python",
   "nbconvert_exporter": "python",
   "pygments_lexer": "ipython3",
   "version": "3.10.4"
  },
  "orig_nbformat": 4,
  "vscode": {
   "interpreter": {
    "hash": "aee8b7b246df8f9039afb4144a1f6fd8d2ca17a180786b69acc140d282b71a49"
   }
  }
 },
 "nbformat": 4,
 "nbformat_minor": 2
}
