{
 "cells": [
  {
   "cell_type": "code",
   "execution_count": 4,
   "metadata": {},
   "outputs": [],
   "source": [
    "# 5.1 Functions"
   ]
  },
  {
   "cell_type": "code",
   "execution_count": 5,
   "metadata": {},
   "outputs": [
    {
     "name": "stdout",
     "output_type": "stream",
     "text": [
      "Hello Enzo\n"
     ]
    }
   ],
   "source": [
    "# A. Write a function that accepts one parameter, name\n",
    "#    The function should print the message \"Hello, _____.\" filling in the blank with the name\n",
    "\n",
    "def hello_you(name):\n",
    "    print(f'Hello {name}')\n",
    "\n",
    "hello_you(\"Enzo\")"
   ]
  },
  {
   "cell_type": "code",
   "execution_count": 6,
   "metadata": {},
   "outputs": [
    {
     "data": {
      "text/plain": [
       "False"
      ]
     },
     "execution_count": 6,
     "metadata": {},
     "output_type": "execute_result"
    }
   ],
   "source": [
    "# B. Write a function that accepts one parameter, a number\n",
    "#    The function should return true or false depending on whether the number is even\n",
    "\n",
    "def number_check(num):\n",
    "    if num %2 == 0:\n",
    "        return True\n",
    "    else:\n",
    "        return False\n",
    "\n",
    "number_check(15)"
   ]
  },
  {
   "cell_type": "code",
   "execution_count": 7,
   "metadata": {},
   "outputs": [
    {
     "name": "stdout",
     "output_type": "stream",
     "text": [
      "155\n"
     ]
    }
   ],
   "source": [
    "# C. Write a function that accepts one parameter, a list\n",
    "#    The function should return the sum total of all numbers in the list, using a loop\n",
    "\n",
    "def sum_my_list(my_list):\n",
    "    my_list_sum = 0\n",
    "    for num in my_list:\n",
    "        my_list_sum += num\n",
    "    print(my_list_sum)\n",
    "\n",
    "prices = (15, 56, 24, 48, 12)\n",
    "\n",
    "sum_my_list(prices)"
   ]
  },
  {
   "cell_type": "code",
   "execution_count": 8,
   "metadata": {},
   "outputs": [
    {
     "name": "stdout",
     "output_type": "stream",
     "text": [
      "Introducing Enzo Pezzoni, Bogoss\n"
     ]
    }
   ],
   "source": [
    "# D. Write a function that accepts one parameter, a dictionary\n",
    "#    The function should print the message \"Introducing ______ ______, ________!\"\n",
    "#    Fill in the blanks with the \"first_name\", \"last_name\", and \"title\" properties of the dictionary\n",
    "\n",
    "def introduction(profile):\n",
    "    print(f'Introducing {profile[\"first_name\"]} {profile[\"last_name\"]}, {profile[\"title\"]}')\n",
    "\n",
    "enzo = {\"first_name\": \"Enzo\", \"last_name\": \"Pezzoni\", \"title\": \"Bogoss\"}\n",
    "\n",
    "introduction(enzo)"
   ]
  },
  {
   "cell_type": "code",
   "execution_count": 9,
   "metadata": {},
   "outputs": [],
   "source": [
    "# 5.2 Problem-Solving Functions"
   ]
  },
  {
   "cell_type": "code",
   "execution_count": 10,
   "metadata": {},
   "outputs": [
    {
     "name": "stdout",
     "output_type": "stream",
     "text": [
      "Romain\n"
     ]
    }
   ],
   "source": [
    "# A. Find the longest string in a given list of strings\n",
    "\n",
    "bogoss_names = (\"Enzo\", \"Romain\", \"Max\")\n",
    "\n",
    "def get_longest_string(the_list):\n",
    "    longest_string = \"\"\n",
    "    for element in the_list:\n",
    "        if len(element) > len(longest_string):\n",
    "            longest_string = element\n",
    "        else:\n",
    "            pass\n",
    "    print(longest_string)\n",
    "\n",
    "get_longest_string(bogoss_names)\n"
   ]
  },
  {
   "cell_type": "code",
   "execution_count": 11,
   "metadata": {},
   "outputs": [
    {
     "data": {
      "text/plain": [
       "False"
      ]
     },
     "execution_count": 11,
     "metadata": {},
     "output_type": "execute_result"
    }
   ],
   "source": [
    "# B. Determine whether a given list contains a given value\n",
    "\n",
    "figures = (1, 2, 3, 4, 5, 6, 7, 8, 9)\n",
    "\n",
    "def is_in_list(the_list, the_number):\n",
    "    if the_number in the_list:\n",
    "        return True\n",
    "    else:\n",
    "        return False\n",
    "\n",
    "is_in_list(figures, 56)"
   ]
  },
  {
   "cell_type": "code",
   "execution_count": 12,
   "metadata": {},
   "outputs": [
    {
     "data": {
      "text/plain": [
       "3"
      ]
     },
     "execution_count": 12,
     "metadata": {},
     "output_type": "execute_result"
    }
   ],
   "source": [
    "# C. Count how many times a given string contains a given letter\n",
    "\n",
    "movie = \"Le jour le plus long\"\n",
    "\n",
    "def count_char(phrase, character):\n",
    "    count_char = 0\n",
    "    for char in phrase:\n",
    "        if char == character:\n",
    "            count_char += 1\n",
    "        else:\n",
    "            pass\n",
    "    return count_char\n",
    "\n",
    "count_char(movie, \"l\")"
   ]
  },
  {
   "cell_type": "code",
   "execution_count": 13,
   "metadata": {},
   "outputs": [
    {
     "data": {
      "text/plain": [
       "'g'"
      ]
     },
     "execution_count": 13,
     "metadata": {},
     "output_type": "execute_result"
    }
   ],
   "source": [
    "# D. Find the most common letter in a given string, and use the previous function in your answer\n",
    "\n",
    "#iterate over each letter and count occurences\n",
    "#store count and change each time needed\n",
    "\n",
    "def get_most_common_letter(phrase):\n",
    "    count_letter = 0\n",
    "    answer = \"\"\n",
    "    for letter in phrase:\n",
    "        first_count = count_char(phrase, letter)\n",
    "        if first_count > count_letter:\n",
    "            count_letter = first_count\n",
    "            answer = letter\n",
    "        else:\n",
    "            pass\n",
    "    return answer\n",
    "\n",
    "get_most_common_letter(\"gggggdfhbsghsrtadff\")\n"
   ]
  },
  {
   "cell_type": "code",
   "execution_count": 14,
   "metadata": {},
   "outputs": [
    {
     "data": {
      "text/plain": [
       "20.0"
      ]
     },
     "execution_count": 14,
     "metadata": {},
     "output_type": "execute_result"
    }
   ],
   "source": [
    "# E. Find the area of a triangle given its length and height as parameters\n",
    "\n",
    "def triangle_area(lenght, height):\n",
    "    triangle_area = 0.5 * lenght * height\n",
    "    return triangle_area\n",
    "\n",
    "triangle_area(5, 8)"
   ]
  }
 ],
 "metadata": {
  "kernelspec": {
   "display_name": "Python 3.10.4 64-bit",
   "language": "python",
   "name": "python3"
  },
  "language_info": {
   "codemirror_mode": {
    "name": "ipython",
    "version": 3
   },
   "file_extension": ".py",
   "mimetype": "text/x-python",
   "name": "python",
   "nbconvert_exporter": "python",
   "pygments_lexer": "ipython3",
   "version": "3.10.4"
  },
  "vscode": {
   "interpreter": {
    "hash": "aee8b7b246df8f9039afb4144a1f6fd8d2ca17a180786b69acc140d282b71a49"
   }
  }
 },
 "nbformat": 4,
 "nbformat_minor": 4
}
