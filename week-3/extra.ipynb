{
 "cells": [
  {
   "cell_type": "code",
   "execution_count": 9,
   "metadata": {},
   "outputs": [
    {
     "data": {
      "text/plain": [
       "[{'title': 'From Time',\n",
       "  'genre': 'Pop',\n",
       "  'artiste': 'Drake, Jhene Aiko',\n",
       "  'year': '2013',\n",
       "  'length': 2.5},\n",
       " {'title': 'Shake it Off',\n",
       "  'genre': 'Pop',\n",
       "  'artiste': 'Taylor Swift',\n",
       "  'year': '2016',\n",
       "  'length': 3.15},\n",
       " {'title': 'Bodak Yellow',\n",
       "  'genre': 'Pop',\n",
       "  'artiste': 'Cardi B',\n",
       "  'year': '2017',\n",
       "  'length': 3.25},\n",
       " {'title': 'Likes',\n",
       "  'genre': 'Reggae',\n",
       "  'artiste': 'Chronixx',\n",
       "  'year': '2017',\n",
       "  'length': 3.45},\n",
       " {'title': 'Through the Night',\n",
       "  'genre': 'Pop',\n",
       "  'artiste': 'Travis Scott',\n",
       "  'year': '2016',\n",
       "  'length': 4.5}]"
      ]
     },
     "execution_count": 9,
     "metadata": {},
     "output_type": "execute_result"
    }
   ],
   "source": [
    "playlist = [\n",
    "    {\n",
    "        'title': 'Bodak Yellow',\n",
    "        'genre': 'Pop',\n",
    "        'artiste': 'Cardi B',\n",
    "        'year': '2017',\n",
    "        'length': 3.25\n",
    "    },\n",
    "    {\n",
    "        'title': 'Shake it Off',\n",
    "        'genre': 'Pop',\n",
    "        'artiste': 'Taylor Swift',\n",
    "        'year': '2016',\n",
    "        'length': 3.15\n",
    "    },\n",
    "    {\n",
    "        'title': 'Through the Night',\n",
    "        'genre': 'Pop',\n",
    "        'artiste': 'Travis Scott',\n",
    "        'year': '2016',\n",
    "        'length': 4.50\n",
    "    },\n",
    "    {\n",
    "        'title': 'Likes',\n",
    "        'genre': 'Reggae',\n",
    "        'artiste': 'Chronixx',\n",
    "        'year': '2017',\n",
    "        'length': 3.45\n",
    "    },\n",
    "    {\n",
    "        'title': 'From Time',\n",
    "        'genre': 'Pop',\n",
    "        'artiste': 'Drake, Jhene Aiko',\n",
    "        'year': '2013',\n",
    "        'length': 2.50\n",
    "    }\n",
    "]\n",
    "\n",
    "#what if we want to sort this playlist\n",
    "\n",
    "nums = [-10, 5, 0, 1, 11, 4, 13, 25, 57, 2]\n",
    "sorted(nums, reverse=True)\n",
    "sorted(playlist, key= lambda song : song['length'])"
   ]
  },
  {
   "cell_type": "code",
   "execution_count": 35,
   "metadata": {},
   "outputs": [
    {
     "name": "stdout",
     "output_type": "stream",
     "text": [
      "['Cardi B', 'Taylor Swift', 'Travis Scott', 'Chronixx', 'Drake, Jhene Aiko']\n",
      "Through the Night\n",
      "16.85\n"
     ]
    }
   ],
   "source": [
    "#use the playlist to write these functions\n",
    "\n",
    "#1- write a function that returns a list of the artist names\n",
    "#2- write a function that returns the title of the longest running song\n",
    "#3- write a function that returns the total running time of the playlist\n",
    "\n",
    "def get_artist_names():\n",
    "    artist_names = []\n",
    "    for song in playlist:\n",
    "        artist_names.append(song['artiste'])\n",
    "    return artist_names\n",
    "\n",
    "print(get_artist_names())\n",
    "\n",
    "\n",
    "def get_longest_song():\n",
    "    longest_run_time = 0\n",
    "    longest_running_song = ''\n",
    "    for song in playlist:\n",
    "        if song['length'] > longest_run_time:\n",
    "            longest_run_time = song['length']\n",
    "            longest_running_song = song['title']\n",
    "\n",
    "    return longest_running_song\n",
    "\n",
    "print(get_longest_song())\n",
    "\n",
    "\n",
    "def get_total_running_time():\n",
    "    total = 0\n",
    "    for song in playlist:\n",
    "        total += song['length']\n",
    "    return total\n",
    "\n",
    "print(get_total_running_time())"
   ]
  },
  {
   "cell_type": "code",
   "execution_count": 9,
   "metadata": {},
   "outputs": [
    {
     "name": "stdout",
     "output_type": "stream",
     "text": [
      "(123) 456-7890\n"
     ]
    }
   ],
   "source": [
    "#codewars - Create Phone Number\n",
    "#Write a function that accepts an array of 10 integers (between 0 and 9), that returns a string of those numbers in the form of a phone number.\n",
    "\n",
    "#------\n",
    "#input(s) list of integer, size 10 (0 -9)\n",
    "#output - sting in phone number format : (xxx) xxx-xxxx\n",
    "\n",
    "#1- create a variable to store the output\n",
    "#2- iterate over the list of numbers\n",
    "#2.1- add each item to our output string\n",
    "#3- add the extra characters to the correct positions in the string\n",
    "\n",
    "my_phone_number = [1, 2, 3, 4, 5, 6, 7, 8, 9, 0]\n",
    "\n",
    "def create_phone_number(n):\n",
    "    phone_number = '('\n",
    "    for idx in range(len(n)):\n",
    "        if idx == 3 :\n",
    "            phone_number += ') '\n",
    "        if idx == 6:\n",
    "            phone_number += '-'\n",
    "        phone_number += str(n[idx])\n",
    "    return phone_number\n",
    "\n",
    "print(create_phone_number(my_phone_number))\n"
   ]
  },
  {
   "cell_type": "code",
   "execution_count": null,
   "metadata": {},
   "outputs": [],
   "source": []
  }
 ],
 "metadata": {
  "kernelspec": {
   "display_name": "Python 3.10.4 64-bit",
   "language": "python",
   "name": "python3"
  },
  "language_info": {
   "codemirror_mode": {
    "name": "ipython",
    "version": 3
   },
   "file_extension": ".py",
   "mimetype": "text/x-python",
   "name": "python",
   "nbconvert_exporter": "python",
   "pygments_lexer": "ipython3",
   "version": "3.10.4"
  },
  "orig_nbformat": 4,
  "vscode": {
   "interpreter": {
    "hash": "aee8b7b246df8f9039afb4144a1f6fd8d2ca17a180786b69acc140d282b71a49"
   }
  }
 },
 "nbformat": 4,
 "nbformat_minor": 2
}
