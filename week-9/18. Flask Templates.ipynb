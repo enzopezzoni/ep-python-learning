{
 "cells": [
  {
   "cell_type": "code",
   "execution_count": null,
   "metadata": {},
   "outputs": [],
   "source": [
    "# To fake a database, the collection below will be our application's \"data\"\n",
    "reviews = [\n",
    "    {\"book_title\":\"Confessions of a Python Programmer\", \"review_text\":\"A cautionary tale for all would-be programmers\", \"score\":5, \"id\":\"1\"},\n",
    "    {\"book_title\":\"To Serve Man\", \"review_text\":\"Delicious recipes\", \"score\":3, \"id\":\"2\"},\n",
    "    {\"book_title\":\"Pride and Prejudice\", \"review_text\":\"The pride is ok but the prejudice not so much\", \"score\":4, \"id\":\"3\"},\n",
    "]"
   ]
  },
  {
   "cell_type": "code",
   "execution_count": null,
   "metadata": {},
   "outputs": [],
   "source": [
    "from flask import Flask, render_template, request # import what we need to use from the flask library\n",
    "\n",
    "\n",
    "app = Flask(__name__) # invoke the Flask clas"
   ]
  },
  {
   "cell_type": "markdown",
   "metadata": {},
   "source": [
    "#### 1. Example template route"
   ]
  },
  {
   "cell_type": "code",
   "execution_count": null,
   "metadata": {},
   "outputs": [],
   "source": [
    "@app.route(\"/example\")\n",
    "def example_route():\n",
    "    return render_template(\"example.html\", adjective=\"fun\")"
   ]
  },
  {
   "cell_type": "markdown",
   "metadata": {},
   "source": [
    "#### 2. Show Route"
   ]
  },
  {
   "cell_type": "code",
   "execution_count": null,
   "metadata": {},
   "outputs": [],
   "source": [
    "# Create a route with the url reviews/ID, where ID is a route variable\n",
    "# Render the show.html template, providing the review with the matching id\n",
    "# In the show.html template, display the book_title and review_text information.\n",
    "# The book_title should be an h2 element, while the review_text should be a paragraph element\n",
    "# Hint: You will have to loop through the list to find the right review to provide\n"
   ]
  },
  {
   "cell_type": "markdown",
   "metadata": {},
   "source": [
    "#### 3. Index Route"
   ]
  },
  {
   "cell_type": "code",
   "execution_count": null,
   "metadata": {},
   "outputs": [],
   "source": [
    "# Create a route with the url \"reviews\"\n",
    "# Render the index.html template, providing the entire list of reviews as a keyword argument\n"
   ]
  },
  {
   "cell_type": "markdown",
   "metadata": {},
   "source": [
    "#### 4. Create Route"
   ]
  },
  {
   "cell_type": "code",
   "execution_count": null,
   "metadata": {},
   "outputs": [],
   "source": [
    "# Create a route that accepts a POST request to \"/reviews\"\n",
    "# The route should create a new_review dictionary that contains the attached request's data\n",
    "# Add the new_review dictionary to the reviews list\n",
    "# Return a dictionary as follows: { \"status\": 201, \"data\": reviews } as the response from this route\n"
   ]
  },
  {
   "cell_type": "code",
   "execution_count": null,
   "metadata": {
    "scrolled": true
   },
   "outputs": [],
   "source": [
    "# Enter the commands below into a separate notebook file to send a test request to your Create route\n",
    "# import requests\n",
    "# requests.post(\"http://localhost:5000/reviews\", data={book_title:\"War and Peace 2: Andrei Rises Again\", \"review_text\":\"Tolstoy should have stopped with the first one.\",\"score\":2}"
   ]
  },
  {
   "cell_type": "code",
   "execution_count": null,
   "metadata": {
    "scrolled": true
   },
   "outputs": [],
   "source": [
    "if __name__ == '__main__':\n",
    "    app.run() # Start the server listening for requests"
   ]
  },
  {
   "cell_type": "code",
   "execution_count": null,
   "metadata": {},
   "outputs": [],
   "source": []
  }
 ],
 "metadata": {
  "kernelspec": {
   "display_name": "Python 3.10.4 64-bit",
   "language": "python",
   "name": "python3"
  },
  "language_info": {
   "codemirror_mode": {
    "name": "ipython",
    "version": 3
   },
   "file_extension": ".py",
   "mimetype": "text/x-python",
   "name": "python",
   "nbconvert_exporter": "python",
   "pygments_lexer": "ipython3",
   "version": "3.10.4"
  },
  "vscode": {
   "interpreter": {
    "hash": "aee8b7b246df8f9039afb4144a1f6fd8d2ca17a180786b69acc140d282b71a49"
   }
  }
 },
 "nbformat": 4,
 "nbformat_minor": 4
}
