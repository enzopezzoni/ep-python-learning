{
 "cells": [
  {
   "cell_type": "code",
   "execution_count": 15,
   "metadata": {},
   "outputs": [
    {
     "name": "stdout",
     "output_type": "stream",
     "text": [
      "['Pavel', 'Enzo', 'Sanjeev', 'Son']\n",
      "['Pavel', 'Enzo', 'Sanjeev']\n",
      "['Pavel', 'Sanjeev']\n",
      "['Pavel', 'Enzo', 'Sanjeev']\n",
      "3\n",
      "32\n"
     ]
    }
   ],
   "source": [
    "#lists\n",
    "#zero indexed\n",
    "\n",
    "names = [] #creates an empty list\n",
    "days_of_week = ['Mon', 'Tue', 'Wed', 'Thu', 'Fri', 'Sat'] #create a list\n",
    "colors = list() #using a list constructor, also creates an empty list\n",
    "\n",
    "#adding to a list\n",
    "names.append('Pavel')\n",
    "names.append('Enzo') #add to the end of the list\n",
    "names.append('Sanjeev')\n",
    "names.append('Son')\n",
    "print(names)\n",
    "\n",
    "#remove an item from end of list\n",
    "names.pop()\n",
    "print(names)\n",
    "\n",
    "#remove from a specific index\n",
    "second_in_list = names.pop(1)\n",
    "print(names)\n",
    "\n",
    "#insert at any position\n",
    "names.insert(1, second_in_list)\n",
    "print(names)\n",
    "\n",
    "#count occurence of an item in a list\n",
    "numbers = [1, 3, 5, 3, 5, 3, -1, 8, 5]\n",
    "number_of_five = numbers.count(5)\n",
    "print(number_of_five)\n",
    "\n",
    "#sum my numbers\n",
    "total = sum(numbers)\n",
    "print(total)"
   ]
  },
  {
   "cell_type": "code",
   "execution_count": 1,
   "metadata": {},
   "outputs": [
    {
     "name": "stdout",
     "output_type": "stream",
     "text": [
      "{'name': 'Enzo', 'age': 27}\n",
      "{'name': 'Enzo', 'age': 25}\n",
      "{'name': 'Enzo', 'age': 25, 'hobby': 'skiing'}\n",
      "[{'name': 'Enzo', 'age': 27, 'address': 'Toulon'}, {'name': 'Pavel', 'age': 24, 'address': 'Toronto', 'pet': {'type': 'dog', 'name': 'Billy', 'age': 2}}, {'name': 'Son', 'age': 25, 'address': 'Vaughan'}, {'name': 'Priscilla', 'age': 22, 'address': 'Markham'}, {'name': 'Sanjeev', 'age': 23, 'address': 'Oakville'}, {'name': 'Ella', 'age': 25, 'address': 'Burlington'}]\n",
      "25\n",
      "Billy\n"
     ]
    }
   ],
   "source": [
    "#dictionaries\n",
    "#a collection of key:value pairs\n",
    "\n",
    "person = {} #an empty dictionary\n",
    "city = dict() #also ann empty dictionary\n",
    "car = {'make': 'Toyota', 'model': 'Corolla', 'year': '2020'}\n",
    "\n",
    "#add an item to a list\n",
    "person['name'] = 'Enzo'\n",
    "person['age'] = 27\n",
    "print(person)\n",
    "\n",
    "#keys in a dictionary are unique, if you add again th esame key, it ovewrites the previous one\n",
    "person['age'] = 25\n",
    "print(person)\n",
    "\n",
    "#keys need to be immutable\n",
    "#list and dict CANNOT be keys, becaue they are mutable\n",
    "#values can be anything\n",
    "person_hobby = 'skiing'\n",
    "person['hobby'] = person_hobby\n",
    "print(person)\n",
    "\n",
    "#store, name, age, and address and each person in the class\n",
    "class_list = []\n",
    "class_list.append({'name': 'Enzo', 'age': 27, 'address': 'Toulon'})\n",
    "class_list.append({\n",
    "        'name': 'Pavel',\n",
    "        'age': 24,\n",
    "        'address': 'Toronto',\n",
    "        'pet': {\n",
    "            'type': 'dog',\n",
    "            'name': 'Billy',\n",
    "            'age': 2\n",
    "        }})\n",
    "class_list.append({'name': 'Son',  'age': 25,'address': 'Vaughan'})\n",
    "class_list.append({'name': 'Priscilla',  'age': 22,'address': 'Markham'})\n",
    "class_list.append({'name': 'Sanjeev',  'age': 23,'address': 'Oakville'})\n",
    "class_list.append({'name': 'Ella',  'age': 25,'address': 'Burlington'})\n",
    "print(class_list)\n",
    "\n",
    "#print the age of the last person in the list\n",
    "print(class_list[-1]['age'])\n",
    "\n",
    "#can you print Pavel's pet name\n",
    "print(class_list[1]['pet']['name'])"
   ]
  }
 ],
 "metadata": {
  "interpreter": {
   "hash": "31f2aee4e71d21fbe5cf8b01ff0e069b9275f58929596ceb00d14d90e3e16cd6"
  },
  "kernelspec": {
   "display_name": "Python 3.8.9 64-bit",
   "language": "python",
   "name": "python3"
  },
  "language_info": {
   "codemirror_mode": {
    "name": "ipython",
    "version": 3
   },
   "file_extension": ".py",
   "mimetype": "text/x-python",
   "name": "python",
   "nbconvert_exporter": "python",
   "pygments_lexer": "ipython3",
   "version": "3.8.9"
  },
  "orig_nbformat": 4
 },
 "nbformat": 4,
 "nbformat_minor": 2
}
