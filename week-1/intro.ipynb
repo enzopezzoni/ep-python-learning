{
 "cells": [
  {
   "cell_type": "code",
   "execution_count": 3,
   "metadata": {},
   "outputs": [
    {
     "name": "stdout",
     "output_type": "stream",
     "text": [
      "hello world\n"
     ]
    }
   ],
   "source": [
    "print('hello world')"
   ]
  },
  {
   "cell_type": "code",
   "execution_count": 13,
   "metadata": {},
   "outputs": [
    {
     "name": "stdout",
     "output_type": "stream",
     "text": [
      "Enzo Pezzoni\n",
      "Hello world, my name is Enzo Pezzoni and I am 27 years old\n",
      "Hello world, my name is Enzo Pezzoni and I am 27 years old\n"
     ]
    }
   ],
   "source": [
    "#variables\n",
    "\n",
    "first_name = 'Enzo'     #string\n",
    "age = 27                #integer\n",
    "has_yachts = False      #boolean (True, False)\n",
    "price_og_gas = 2.11     #float\n",
    "last_name = 'Pezzoni'   #string\n",
    "\n",
    "print(first_name, last_name)\n",
    "print('Hello world, my name is', first_name, last_name, 'and I am', age, 'years old')\n",
    "print(f'Hello world, my name is {first_name} {last_name} and I am {age} years old')\n",
    "\n",
    "#arithmetic operators\n",
    "\n",
    "a = 10\n",
    "b = 25\n",
    "c = 3"
   ]
  },
  {
   "cell_type": "code",
   "execution_count": 1,
   "metadata": {},
   "outputs": [
    {
     "name": "stdout",
     "output_type": "stream",
     "text": [
      "29\n"
     ]
    }
   ],
   "source": [
    "#updating a variable\n",
    "\n",
    "current_age = 27\n",
    "current_age = current_age + 1 #update current age but doesn't make sense mathematicaly\n",
    "current_age += 1 #increment current age\n",
    "print(current_age)\n",
    "\n",
    "#this work with all the other operators\n",
    "# -=\n",
    "# *=\n",
    "# /*\n",
    "# //="
   ]
  }
 ],
 "metadata": {
  "interpreter": {
   "hash": "31f2aee4e71d21fbe5cf8b01ff0e069b9275f58929596ceb00d14d90e3e16cd6"
  },
  "kernelspec": {
   "display_name": "Python 3.8.9 64-bit",
   "language": "python",
   "name": "python3"
  },
  "language_info": {
   "codemirror_mode": {
    "name": "ipython",
    "version": 3
   },
   "file_extension": ".py",
   "mimetype": "text/x-python",
   "name": "python",
   "nbconvert_exporter": "python",
   "pygments_lexer": "ipython3",
   "version": "3.8.9"
  },
  "orig_nbformat": 4
 },
 "nbformat": 4,
 "nbformat_minor": 2
}
