{
 "cells": [
  {
   "cell_type": "code",
   "execution_count": 1,
   "metadata": {},
   "outputs": [
    {
     "name": "stdout",
     "output_type": "stream",
     "text": [
      "The color of the rainbow are red, orange, yellow, green, blue, indigo, and violet\n",
      "Lightning Yellow Deep Sea Blue\n",
      "['red', 'orange', 'Lightning Yellow', 'green', 'Deep Sea Blue', 'indigo', 'violet']\n"
     ]
    }
   ],
   "source": [
    "# 2.1 Colors of the Rainbow\n",
    "\n",
    "# A. Make a list called colors that stores 7 strings, each a color of the rainbow\n",
    "colors = ['red', 'orange', 'yellow', 'green', 'blue', 'indigo', 'violet']\n",
    "\n",
    "# B. Then, print the following string, using list indices to access the specific colors:\n",
    "# \"The colors of the rainbow are red, orange, yellow, green, blue, indigo, and violet\"\n",
    "#  String concatenation might get a bit complex to read: try using an f-string for string interpolation!\n",
    "print(f'The color of the rainbow are {colors[0]}, {colors[1]}, {colors[2]}, {colors[3]}, {colors[4]}, {colors[5]}, and {colors[6]}')\n",
    "\n",
    "# C. Change two of the colors to more descriptive names, such as \"Lightning Yellow\" or \"Deep Sea Blue\"\n",
    "colors[2] = 'Lightning Yellow'\n",
    "colors[4] = 'Deep Sea Blue'\n",
    "\n",
    "# D. Print the two new color names using list indices to access them\n",
    "print(colors[2], colors[4])\n",
    "\n",
    "# E. Print the colors variable to see the difference between printing a specific item and printing the list itself\n",
    "print(colors)"
   ]
  },
  {
   "cell_type": "code",
   "execution_count": 2,
   "metadata": {},
   "outputs": [
    {
     "name": "stdout",
     "output_type": "stream",
     "text": [
      "Do not worry, your son Boris is number 2 in the list\n",
      "['Alyce', 'DeSean', 'Boris', 'Diego']\n"
     ]
    }
   ],
   "source": [
    "# 2.2 The Wait List\n",
    "# You will have to research some new methods to use for these challenges\n",
    "# You can use print statements to investigate whether your changes have succeeded as expected\n",
    "candidates = [\"Alice\", \"Boris\", \"Carmen\"]\n",
    "\n",
    "# A. A promising new applicant, Diego, needs to be added to the end of the list\n",
    "candidates.append(\"Diego\")\n",
    "\n",
    "# B. Alice has informed us of a typo on their application: change their name to \"Alyce\"\n",
    "candidates[0] = \"Alyce\"\n",
    "\n",
    "# C. One of our generous donors has a nephew, Aaron, who should be added to the very front of the list\n",
    "candidates.insert(0, 'Aaron')\n",
    "\n",
    "# D. Boris's parents are concerned. Use the .index() method to print a message explaining Boris's place in the list\n",
    "print(f\"Do not worry, your son Boris is number {candidates.index('Boris')} in the list\")\n",
    "\n",
    "# E. Carmen is upset by the priority given to relatives of donors, and has withdrawn their application.\n",
    "#    Use the .remove() method to remove them from the list.\n",
    "candidates.remove('Carmen')\n",
    "\n",
    "# F. Use a method to remove the very first student in the list, as they have now been accepted!\n",
    "candidates.remove(candidates[0])\n",
    "\n",
    "# G. DeSean has submitted an impressive personal statement. Place them at index 1 by using .insert()\n",
    "candidates.insert(1, 'DeSean')\n",
    "\n",
    "# H. We've been audited by the Board for Educational Fairness! Print the list of candidates.\n",
    "#    It should look like this: [\"Alyce\", \"DeSean\", Boris\", \"Diego\"]\n",
    "print(candidates)"
   ]
  },
  {
   "cell_type": "code",
   "execution_count": 3,
   "metadata": {},
   "outputs": [
    {
     "name": "stdout",
     "output_type": "stream",
     "text": [
      "This 3 bedrooms house costs 750000\n",
      "825000.0000000001\n",
      "The price of the house 1100.0000000000002$ per square foot\n",
      "{'address': '123 Fake Street', 'price': 825000.0000000001, 'bedrooms': 3, 'zip_code': 95404, 'square_feet': 750, 'status': 'sold'}\n"
     ]
    }
   ],
   "source": [
    "# 2.3 Key Value Properties\n",
    "# Use the house dictionary for the following challenges\n",
    "house = { 'address': '123 Fake Street','price': 750000, 'bedrooms': 3}\n",
    "\n",
    "# A. Buyers can't find the house without a zip code! Add a zip_code property equal to \"95404\"\n",
    "house['zip_code'] = 95404\n",
    "\n",
    "# B. Our web designers want a statement reading: \"This 3 bedroom house costs 250000\"\n",
    "#    Print that statement by accessing the values from the dictionary: do NOT \"hard-code\" the string!\n",
    "print(f\"This {house['bedrooms']} bedrooms house costs {house['price']}\")\n",
    "\n",
    "# C. We're getting a lot of interest in the house! Let's increase the price by 10%\n",
    "house['price'] *= 1.1\n",
    "print(house['price'])\n",
    "\n",
    "# D. Buyers are surprised at how small the house is. Let's add a square_feet property equal to 750\n",
    "house['square_feet'] = 750\n",
    "\n",
    "# E. We want to show off the value per foot. Print a message explaining the price per square foot.\n",
    "print(f\"The price of the house {house['price']/house['square_feet']}$ per square foot\")\n",
    "\n",
    "# F. After 2 long hours on the market, the house has finally sold! Add a status property equal to \"sold\"\n",
    "house['status']= 'sold'\n",
    "\n",
    "# G. Print the entire listing. You should see a dictionary similar to the following:\n",
    "# {address: \"123 Fake Street\", price: 825000, bedrooms: 3, zip_code: \"95404\" square_feet: 750, status: \"sold\"}\n",
    "print(house)"
   ]
  },
  {
   "cell_type": "code",
   "execution_count": 4,
   "metadata": {},
   "outputs": [],
   "source": [
    "# 2.4 Python Librarian\n",
    "\n",
    "authors = {\n",
    "    \"Arundhati Roy\": {\n",
    "        \"genre\": \"literary fiction\",\n",
    "        \"books\": [\n",
    "            \"The God of Small Things\",\n",
    "            \"The Ministry of Utmost Happiness\"\n",
    "        ],\n",
    "        \"active\": True\n",
    "    },\n",
    "    \"Brandon Sanderson\": {\n",
    "        \"genre\": \"fantasy\",\n",
    "        \"books\": [\n",
    "            \"The Way of Kings\",\n",
    "            \"Words of Radiance\",\n",
    "            \"Oathbringer\"\n",
    "        ],\n",
    "        \"active\": True,\n",
    "        \"phone\": {\n",
    "            \"home\": \"(281) 330-8004\",\n",
    "            \"work\": \"(877) CASH-NOW\"\n",
    "        }\n",
    "    },\n",
    "    \"Kobo Abe\": {\n",
    "        \"genre\": \"absurdist fiction\",\n",
    "        \"books\": [\n",
    "            \"The Woman in the Dunes\",\n",
    "            \"The Face of Another\"\n",
    "        ],\n",
    "        \"active\": False\n",
    "    },\n",
    "}"
   ]
  },
  {
   "cell_type": "code",
   "execution_count": 5,
   "metadata": {},
   "outputs": [
    {
     "name": "stdout",
     "output_type": "stream",
     "text": [
      "The Ministry of Utmost Happiness\n"
     ]
    }
   ],
   "source": [
    "# A. Access and print Arundhati Roy's first book\n",
    "print(authors[\"Arundhati Roy\"][\"books\"][1])"
   ]
  },
  {
   "cell_type": "code",
   "execution_count": 6,
   "metadata": {},
   "outputs": [
    {
     "name": "stdout",
     "output_type": "stream",
     "text": [
      "(877) CASH-NOW\n"
     ]
    }
   ],
   "source": [
    "# B. We need to contact Brandon at work: access and print their work phone number\n",
    "print(authors[\"Brandon Sanderson\"][\"phone\"][\"work\"])"
   ]
  },
  {
   "cell_type": "code",
   "execution_count": 7,
   "metadata": {},
   "outputs": [
    {
     "name": "stdout",
     "output_type": "stream",
     "text": [
      "['literary fiction', 'fantasy', 'absurdist fiction']\n"
     ]
    }
   ],
   "source": [
    "# C. Create a list composed of all the genres available in our library\n",
    "genres_available = []\n",
    "genres_available.append(authors['Arundhati Roy']['genre'])\n",
    "genres_available.append(authors['Brandon Sanderson']['genre'])\n",
    "genres_available.append(authors['Kobo Abe']['genre'])\n",
    "\n",
    "print(genres_available)\n",
    "\n",
    "\n"
   ]
  },
  {
   "cell_type": "code",
   "execution_count": 8,
   "metadata": {},
   "outputs": [
    {
     "name": "stdout",
     "output_type": "stream",
     "text": [
      "['The God of Small Things', 'The Ministry of Utmost Happiness', 'The Way of Kings', 'Words of Radiance', 'Oathbringer', 'The Woman in the Dunes', 'The Face of Another']\n"
     ]
    }
   ],
   "source": [
    "# D. Create a list of all books available in our library\n",
    "books_available = []\n",
    "books_available.extend(authors['Arundhati Roy']['books'])\n",
    "books_available.extend(authors['Brandon Sanderson']['books'])\n",
    "books_available.extend(authors['Kobo Abe']['books'])\n",
    "\n",
    "print(books_available)"
   ]
  },
  {
   "cell_type": "code",
   "execution_count": 9,
   "metadata": {},
   "outputs": [
    {
     "name": "stdout",
     "output_type": "stream",
     "text": [
      "{'genre': ['non fiction', 'literary fiction'], 'books': ['The God of Small Things', 'The Ministry of Utmost Happiness'], 'active': True}\n"
     ]
    }
   ],
   "source": [
    "# E. Arundhati has decided to expand their range of genres and tackle non-fiction\n",
    "#    Modify their \"genre\" property to now be a list that also includes non-fiction\n",
    "authors['Arundhati Roy']['genre'] = list()\n",
    "authors['Arundhati Roy']['genre'].append('non fiction')\n",
    "authors['Arundhati Roy']['genre'].append('literary fiction')\n",
    "print(authors['Arundhati Roy'])\n"
   ]
  },
  {
   "cell_type": "code",
   "execution_count": 10,
   "metadata": {},
   "outputs": [],
   "source": [
    "# F. Brandon Sanderson is retiring. Change their active property to False.\n",
    "#    BONUS: This means we should no longer contact them. Delete their \"phone\" property\n",
    "\n",
    "authors['Brandon Sanderson']['active'] = False"
   ]
  },
  {
   "cell_type": "code",
   "execution_count": 11,
   "metadata": {},
   "outputs": [
    {
     "name": "stdout",
     "output_type": "stream",
     "text": [
      "{'Arundhati Roy': {'genre': ['non fiction', 'literary fiction'], 'books': ['The God of Small Things', 'The Ministry of Utmost Happiness'], 'active': True}, 'Brandon Sanderson': {'genre': 'fantasy', 'books': ['The Way of Kings', 'Words of Radiance', 'Oathbringer'], 'active': False, 'phone': {'home': '(281) 330-8004', 'work': '(877) CASH-NOW'}}, 'Kobo Abe': {'genre': 'absurdist fiction', 'books': ['The Woman in the Dunes', 'The Face of Another'], 'active': False}, 'Enzo Pezzoni': {'genre': 'thriller', 'books': ['La vie est belle', 'Et pourquoi pas moi'], 'Active': True, 'Physic': {'Eyes': 'Brown', 'Height': '187cm', 'weight': '72kg'}}}\n"
     ]
    }
   ],
   "source": [
    "# G. Add a new author to our collection of your choice. Make sure they have:\n",
    "#    i. A genre property equal to a string or list of strings\n",
    "#    ii. A books property equal to a list of strings\n",
    "#    iii. An active property equal to a boolean\n",
    "#    iv. Another property that is also a dictionary with one or more properties\n",
    "\n",
    "authors['Enzo Pezzoni'] = {\n",
    "    'genre': 'thriller',\n",
    "    'books': [\n",
    "        \"La vie est belle\",\n",
    "        \"Et pourquoi pas moi\"\n",
    "    ],\n",
    "    'Active': True,\n",
    "    'Physic': {\n",
    "        'Eyes': 'Brown',\n",
    "        'Height': '187cm',\n",
    "        'weight': '72kg'\n",
    "        }\n",
    "    }\n",
    "\n",
    "print(authors)"
   ]
  }
 ],
 "metadata": {
  "interpreter": {
   "hash": "31f2aee4e71d21fbe5cf8b01ff0e069b9275f58929596ceb00d14d90e3e16cd6"
  },
  "kernelspec": {
   "display_name": "Python 3.8.9 64-bit",
   "language": "python",
   "name": "python3"
  },
  "language_info": {
   "codemirror_mode": {
    "name": "ipython",
    "version": 3
   },
   "file_extension": ".py",
   "mimetype": "text/x-python",
   "name": "python",
   "nbconvert_exporter": "python",
   "pygments_lexer": "ipython3",
   "version": "3.8.9"
  }
 },
 "nbformat": 4,
 "nbformat_minor": 4
}
