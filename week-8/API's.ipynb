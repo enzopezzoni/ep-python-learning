{
 "cells": [
  {
   "cell_type": "code",
   "execution_count": 4,
   "metadata": {},
   "outputs": [
    {
     "name": "stdout",
     "output_type": "stream",
     "text": [
      "<Response [200]>\n"
     ]
    }
   ],
   "source": [
    "#make the request to the API\n",
    "import requests\n",
    "data = requests.get('https://statsapi.web.nhl.com/api/v1/teams')"
   ]
  },
  {
   "cell_type": "code",
   "execution_count": 6,
   "metadata": {},
   "outputs": [],
   "source": [
    "#convert the data to something usable\n",
    "teams_data = data.json()"
   ]
  },
  {
   "cell_type": "code",
   "execution_count": 21,
   "metadata": {},
   "outputs": [
    {
     "name": "stdout",
     "output_type": "stream",
     "text": [
      "<class 'list'>\n",
      "<class 'dict'>\n"
     ]
    }
   ],
   "source": [
    "#here are formats we know well\n",
    "print(type(teams_data['teams']))\n",
    "print(type(teams_data['teams'][1]))"
   ]
  },
  {
   "cell_type": "code",
   "execution_count": 24,
   "metadata": {},
   "outputs": [
    {
     "data": {
      "text/plain": [
       "{'id': 2,\n",
       " 'name': 'New York Islanders',\n",
       " 'link': '/api/v1/teams/2',\n",
       " 'venue': {'name': 'UBS Arena',\n",
       "  'link': '/api/v1/venues/null',\n",
       "  'city': 'Elmont',\n",
       "  'timeZone': {'id': 'America/New_York', 'offset': -4, 'tz': 'EDT'}},\n",
       " 'abbreviation': 'NYI',\n",
       " 'teamName': 'Islanders',\n",
       " 'locationName': 'New York',\n",
       " 'firstYearOfPlay': '1972',\n",
       " 'division': {'id': 18,\n",
       "  'name': 'Metropolitan',\n",
       "  'nameShort': 'Metro',\n",
       "  'link': '/api/v1/divisions/18',\n",
       "  'abbreviation': 'M'},\n",
       " 'conference': {'id': 6, 'name': 'Eastern', 'link': '/api/v1/conferences/6'},\n",
       " 'franchise': {'franchiseId': 22,\n",
       "  'teamName': 'Islanders',\n",
       "  'link': '/api/v1/franchises/22'},\n",
       " 'shortName': 'NY Islanders',\n",
       " 'officialSiteUrl': 'http://www.newyorkislanders.com/',\n",
       " 'franchiseId': 22,\n",
       " 'active': True}"
      ]
     },
     "execution_count": 24,
     "metadata": {},
     "output_type": "execute_result"
    }
   ],
   "source": [
    "#what does the data look like\n",
    "teams_data['teams'][1]"
   ]
  },
  {
   "cell_type": "code",
   "execution_count": 17,
   "metadata": {},
   "outputs": [
    {
     "data": {
      "text/plain": [
       "32"
      ]
     },
     "execution_count": 17,
     "metadata": {},
     "output_type": "execute_result"
    }
   ],
   "source": [
    "#find the number of teams in the list\n",
    "len(teams_data['teams'])"
   ]
  },
  {
   "cell_type": "code",
   "execution_count": 23,
   "metadata": {},
   "outputs": [
    {
     "name": "stdout",
     "output_type": "stream",
     "text": [
      "New Jersey Devils\n",
      "New York Islanders\n",
      "New York Rangers\n",
      "Philadelphia Flyers\n",
      "Pittsburgh Penguins\n",
      "Boston Bruins\n",
      "Buffalo Sabres\n",
      "Montréal Canadiens\n",
      "Ottawa Senators\n",
      "Toronto Maple Leafs\n",
      "Carolina Hurricanes\n",
      "Florida Panthers\n",
      "Tampa Bay Lightning\n",
      "Washington Capitals\n",
      "Chicago Blackhawks\n",
      "Detroit Red Wings\n",
      "Nashville Predators\n",
      "St. Louis Blues\n",
      "Calgary Flames\n",
      "Colorado Avalanche\n",
      "Edmonton Oilers\n",
      "Vancouver Canucks\n",
      "Anaheim Ducks\n",
      "Dallas Stars\n",
      "Los Angeles Kings\n",
      "San Jose Sharks\n",
      "Columbus Blue Jackets\n",
      "Minnesota Wild\n",
      "Winnipeg Jets\n",
      "Arizona Coyotes\n",
      "Vegas Golden Knights\n",
      "Seattle Kraken\n"
     ]
    }
   ],
   "source": [
    "#print the name of all the teams\n",
    "for team in teams_data['teams']:\n",
    "    print(team['name'])"
   ]
  },
  {
   "cell_type": "code",
   "execution_count": 28,
   "metadata": {},
   "outputs": [
    {
     "name": "stdout",
     "output_type": "stream",
     "text": [
      "16\n"
     ]
    }
   ],
   "source": [
    "#how many teams are  in the Eastern Conference\n",
    "\n",
    "eastern_conf_count = 0\n",
    "\n",
    "for team in teams_data['teams']:\n",
    "    if team['conference']['name'] == 'Eastern':\n",
    "        eastern_conf_count += 1\n",
    "    else:\n",
    "        pass\n",
    "\n",
    "print(eastern_conf_count)"
   ]
  },
  {
   "cell_type": "code",
   "execution_count": 42,
   "metadata": {},
   "outputs": [
    {
     "name": "stdout",
     "output_type": "stream",
     "text": [
      "{'Atlantic', 'Pacific', 'Central', 'Metropolitan'}\n"
     ]
    }
   ],
   "source": [
    "#what are the different divisions ?\n",
    "#using a set\n",
    "\n",
    "list_of_divisions = set()\n",
    "\n",
    "for team in teams_data['teams']:\n",
    "    list_of_divisions.add(team['division']['name'])\n",
    "\n",
    "print(list_of_divisions)"
   ]
  },
  {
   "cell_type": "code",
   "execution_count": 46,
   "metadata": {},
   "outputs": [
    {
     "name": "stdout",
     "output_type": "stream",
     "text": [
      "['Metropolitan', 'Atlantic', 'Central', 'Pacific']\n"
     ]
    }
   ],
   "source": [
    "#what are the different divisions ?\n",
    "#using a list but checking if item not already in list\n",
    "\n",
    "list_of_divisions = list()\n",
    "\n",
    "for team in teams_data['teams']:\n",
    "    if team['division']['name'] not in list_of_divisions:\n",
    "        list_of_divisions.append(team['division']['name'])\n",
    "\n",
    "print(list_of_divisions)"
   ]
  },
  {
   "cell_type": "code",
   "execution_count": 59,
   "metadata": {},
   "outputs": [
    {
     "name": "stdout",
     "output_type": "stream",
     "text": [
      "{'name': 'Montréal Canadiens', 'firstYearOfPlay': '1909'}\n"
     ]
    }
   ],
   "source": [
    "#who is the oldest team ? (the team with the oldest first year of play)\n",
    "\n",
    "#1. can you put all the first year of play into its own list, and sort ?\n",
    "#2. can you put the first year of play, along with the team name in a dict ?\n",
    "#3. then place all these dict in a list, then sort it ?\n",
    "#4. remember you have to use a key to sort a list of dictionnaries (remember the lambda function?)\n",
    "\n",
    "teams_first_year = []\n",
    "\n",
    "for team in teams_data['teams']:\n",
    "    teams_first_year.append({'name': team['name'], 'firstYearOfPlay' : team['firstYearOfPlay']})\n",
    "\n",
    "print(sorted(teams_first_year, key=lambda x: x['firstYearOfPlay'])[0])"
   ]
  }
 ],
 "metadata": {
  "kernelspec": {
   "display_name": "Python 3.10.4 64-bit",
   "language": "python",
   "name": "python3"
  },
  "language_info": {
   "codemirror_mode": {
    "name": "ipython",
    "version": 3
   },
   "file_extension": ".py",
   "mimetype": "text/x-python",
   "name": "python",
   "nbconvert_exporter": "python",
   "pygments_lexer": "ipython3",
   "version": "3.10.4"
  },
  "orig_nbformat": 4,
  "vscode": {
   "interpreter": {
    "hash": "aee8b7b246df8f9039afb4144a1f6fd8d2ca17a180786b69acc140d282b71a49"
   }
  }
 },
 "nbformat": 4,
 "nbformat_minor": 2
}
