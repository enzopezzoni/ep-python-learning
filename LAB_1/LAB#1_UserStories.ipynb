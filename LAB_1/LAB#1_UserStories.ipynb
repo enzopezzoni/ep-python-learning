{
 "cells": [
  {
   "cell_type": "code",
   "execution_count": 1,
   "metadata": {},
   "outputs": [],
   "source": [
    "import csv\n",
    "import os\n",
    "\n",
    "class Budget_Manager:\n",
    "    def __init__(self, username):\n",
    "        self.username = username\n",
    "        self.headings = [\"title\", \"type\", \"amount\", \"customer/vendor\", \"date\"]\n",
    "        if not os.path.exists(f\"./budget_{username}.csv\"):\n",
    "            with open(f\"./budget_{username}.csv\", \"a+\") as budget_tracking_file:\n",
    "                writer = csv.DictWriter(budget_tracking_file, fieldnames=self.headings)\n",
    "                writer.writeheader()\n",
    "        self.file = f\"./budget_{username}.csv\"\n",
    "\n",
    "    def add_entry(self, title, type, amount, entity, date):\n",
    "        data_to_append = {\"title\": title, \"type\": type, \"amount\": amount, \"customer/vendor\" : entity, \"date\": date}\n",
    "        with open(self.file, \"a\") as file:\n",
    "            writer = csv.DictWriter(file, fieldnames= self.headings)\n",
    "            writer.writerow(data_to_append)\n",
    "        print(f\"{title} added to your budget tracking file as an {type}\")\n",
    "\n",
    "    def display_balance(self):\n",
    "        total_income = 0\n",
    "        total_expense = 0\n",
    "        with open(self.file, \"r\") as file:\n",
    "            reader = csv.DictReader(file)\n",
    "            for entry in reader:\n",
    "                if entry[\"type\"] == \"Income\":\n",
    "                    total_income += int(entry[\"amount\"])\n",
    "                elif entry[\"type\"] == \"Expense\":\n",
    "                    total_expense += int(entry[\"amount\"])\n",
    "        balance = total_income - total_expense\n",
    "        print(f\"Your current net balance is ${balance}\")\n",
    "\n",
    "    def view_historic(self):\n",
    "        with open(self.file, \"r\") as file:\n",
    "            print(f\"Hello {self.username}, here is a list of all your previous transactions :\")\n",
    "            count = 0\n",
    "            reader = csv.DictReader(file)\n",
    "            for entry in reader:\n",
    "                print(f\"Transaction #{count}\\t{entry['title']}, {entry['type']}, {entry['amount']}, {entry['customer/vendor']}, {entry['date']}\")\n",
    "                count += 1\n",
    "\n",
    "\n",
    "active_user = Budget_Manager(\"enzopezzoni\")\n",
    "action = \"\"\n",
    "\n",
    "while action != \"Q\":\n",
    "    action = input(\"What would you like to do ? : - Add a new entry (A) - Display the total account balance (B) - View all previous entries (C) - Quit the program (Q)\")\n",
    "\n",
    "    if action == \"A\":\n",
    "        active_user.add_entry(\n",
    "            input(\"Title\"),\n",
    "            input(\"Type (Income/Expense)\"),\n",
    "            input(\"Customer or Vendor's name\"),\n",
    "            input(\"Amount\"),\n",
    "            input(\"Date (MM-DD-YYYY)\")\n",
    "        )\n",
    "\n",
    "    elif action == \"B\":\n",
    "        active_user.display_balance()\n",
    "\n",
    "    elif action == \"C\":\n",
    "        active_user.view_historic()\n",
    "\n",
    "    elif action != \"Q\":\n",
    "        print(\"Invalid choice! Try again.\")"
   ]
  }
 ],
 "metadata": {
  "kernelspec": {
   "display_name": "Python 3.10.4 64-bit",
   "language": "python",
   "name": "python3"
  },
  "language_info": {
   "codemirror_mode": {
    "name": "ipython",
    "version": 3
   },
   "file_extension": ".py",
   "mimetype": "text/x-python",
   "name": "python",
   "nbconvert_exporter": "python",
   "pygments_lexer": "ipython3",
   "version": "3.10.4"
  },
  "orig_nbformat": 4,
  "vscode": {
   "interpreter": {
    "hash": "aee8b7b246df8f9039afb4144a1f6fd8d2ca17a180786b69acc140d282b71a49"
   }
  }
 },
 "nbformat": 4,
 "nbformat_minor": 2
}
