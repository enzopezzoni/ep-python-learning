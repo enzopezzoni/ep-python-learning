{
 "cells": [
  {
   "cell_type": "code",
   "execution_count": 4,
   "metadata": {},
   "outputs": [],
   "source": [
    "# import necessary libraries\n",
    "import pandas as pd\n",
    "import numpy as np\n",
    "import matplotlib.pyplot as plt\n",
    "\n",
    "# display plots in the Jupyter notebook\n",
    "%matplotlib inline\n",
    "\n",
    "cities = pd.read_csv('./Grocery Sales Data/cities.csv', encoding = 'ISO-8859-1', engine='python')\n",
    "customers = pd.read_csv('./Grocery Sales Data/customers.csv', encoding = 'ISO-8859-1', engine='python')\n",
    "item_master = pd.read_csv('./Grocery Sales Data/item_master.csv', encoding = 'ISO-8859-1', engine='python')\n",
    "sales = pd.read_csv('./Grocery Sales Data/sales.csv', encoding = 'ISO-8859-1', engine='python')\n",
    "sales_rep = pd.read_csv('./Grocery Sales Data/sales_rep.csv', encoding = 'ISO-8859-1', engine='python')"
   ]
  },
  {
   "cell_type": "code",
   "execution_count": 5,
   "metadata": {},
   "outputs": [
    {
     "name": "stdout",
     "output_type": "stream",
     "text": [
      "<class 'pandas.core.frame.DataFrame'>\n",
      "RangeIndex: 100 entries, 0 to 99\n",
      "Data columns (total 6 columns):\n",
      " #   Column     Non-Null Count  Dtype  \n",
      "---  ------     --------------  -----  \n",
      " 0   City       100 non-null    object \n",
      " 1   City Code  100 non-null    int64  \n",
      " 2   Region     100 non-null    object \n",
      " 3   Latitude   100 non-null    float64\n",
      " 4   Longitude  100 non-null    float64\n",
      " 5   Desc       99 non-null     object \n",
      "dtypes: float64(2), int64(1), object(3)\n",
      "memory usage: 4.8+ KB\n"
     ]
    },
    {
     "data": {
      "text/html": [
       "<div>\n",
       "<style scoped>\n",
       "    .dataframe tbody tr th:only-of-type {\n",
       "        vertical-align: middle;\n",
       "    }\n",
       "\n",
       "    .dataframe tbody tr th {\n",
       "        vertical-align: top;\n",
       "    }\n",
       "\n",
       "    .dataframe thead th {\n",
       "        text-align: right;\n",
       "    }\n",
       "</style>\n",
       "<table border=\"1\" class=\"dataframe\">\n",
       "  <thead>\n",
       "    <tr style=\"text-align: right;\">\n",
       "      <th></th>\n",
       "      <th>City</th>\n",
       "      <th>City Code</th>\n",
       "      <th>Region</th>\n",
       "      <th>Latitude</th>\n",
       "      <th>Longitude</th>\n",
       "      <th>Desc</th>\n",
       "    </tr>\n",
       "  </thead>\n",
       "  <tbody>\n",
       "  </tbody>\n",
       "</table>\n",
       "</div>"
      ],
      "text/plain": [
       "Empty DataFrame\n",
       "Columns: [City, City Code, Region, Latitude, Longitude, Desc]\n",
       "Index: []"
      ]
     },
     "execution_count": 5,
     "metadata": {},
     "output_type": "execute_result"
    }
   ],
   "source": [
    "#check if any null value in dataframe\n",
    "cities.info()\n",
    "#Find the null value in the collum\n",
    "cities[cities.isnull().any(axis=1)]\n",
    "#Replace the value by something you like\n",
    "cities.fillna('None', inplace=True)\n",
    "#Check the result\n",
    "cities[cities.isnull().any(axis=1)]"
   ]
  },
  {
   "cell_type": "code",
   "execution_count": 6,
   "metadata": {},
   "outputs": [
    {
     "name": "stdout",
     "output_type": "stream",
     "text": [
      "<class 'pandas.core.frame.DataFrame'>\n",
      "RangeIndex: 684 entries, 0 to 683\n",
      "Data columns (total 3 columns):\n",
      " #   Column           Non-Null Count  Dtype \n",
      "---  ------           --------------  ----- \n",
      " 0   Customer         684 non-null    object\n",
      " 1   Customer Number  684 non-null    int64 \n",
      " 2   City Code        684 non-null    int64 \n",
      "dtypes: int64(2), object(1)\n",
      "memory usage: 16.2+ KB\n"
     ]
    },
    {
     "data": {
      "text/html": [
       "<div>\n",
       "<style scoped>\n",
       "    .dataframe tbody tr th:only-of-type {\n",
       "        vertical-align: middle;\n",
       "    }\n",
       "\n",
       "    .dataframe tbody tr th {\n",
       "        vertical-align: top;\n",
       "    }\n",
       "\n",
       "    .dataframe thead th {\n",
       "        text-align: right;\n",
       "    }\n",
       "</style>\n",
       "<table border=\"1\" class=\"dataframe\">\n",
       "  <thead>\n",
       "    <tr style=\"text-align: right;\">\n",
       "      <th></th>\n",
       "      <th>Customer</th>\n",
       "      <th>Customer Number</th>\n",
       "      <th>City Code</th>\n",
       "    </tr>\n",
       "  </thead>\n",
       "  <tbody>\n",
       "  </tbody>\n",
       "</table>\n",
       "</div>"
      ],
      "text/plain": [
       "Empty DataFrame\n",
       "Columns: [Customer, Customer Number, City Code]\n",
       "Index: []"
      ]
     },
     "execution_count": 6,
     "metadata": {},
     "output_type": "execute_result"
    }
   ],
   "source": [
    "customers.info()\n",
    "customers[customers.isnull().any(axis=1)]\n",
    "#Nothing to signal here"
   ]
  },
  {
   "cell_type": "code",
   "execution_count": 7,
   "metadata": {},
   "outputs": [
    {
     "name": "stdout",
     "output_type": "stream",
     "text": [
      "<class 'pandas.core.frame.DataFrame'>\n",
      "RangeIndex: 827 entries, 0 to 826\n",
      "Data columns (total 5 columns):\n",
      " #   Column             Non-Null Count  Dtype \n",
      "---  ------             --------------  ----- \n",
      " 0   Item Number        827 non-null    int64 \n",
      " 1   Product Group      827 non-null    object\n",
      " 2   Product Line       827 non-null    object\n",
      " 3   Product Sub Group  827 non-null    object\n",
      " 4   Product Type       827 non-null    object\n",
      "dtypes: int64(1), object(4)\n",
      "memory usage: 32.4+ KB\n"
     ]
    },
    {
     "data": {
      "text/html": [
       "<div>\n",
       "<style scoped>\n",
       "    .dataframe tbody tr th:only-of-type {\n",
       "        vertical-align: middle;\n",
       "    }\n",
       "\n",
       "    .dataframe tbody tr th {\n",
       "        vertical-align: top;\n",
       "    }\n",
       "\n",
       "    .dataframe thead th {\n",
       "        text-align: right;\n",
       "    }\n",
       "</style>\n",
       "<table border=\"1\" class=\"dataframe\">\n",
       "  <thead>\n",
       "    <tr style=\"text-align: right;\">\n",
       "      <th></th>\n",
       "      <th>Item Number</th>\n",
       "      <th>Product Group</th>\n",
       "      <th>Product Line</th>\n",
       "      <th>Product Sub Group</th>\n",
       "      <th>Product Type</th>\n",
       "    </tr>\n",
       "  </thead>\n",
       "  <tbody>\n",
       "  </tbody>\n",
       "</table>\n",
       "</div>"
      ],
      "text/plain": [
       "Empty DataFrame\n",
       "Columns: [Item Number, Product Group, Product Line, Product Sub Group, Product Type]\n",
       "Index: []"
      ]
     },
     "execution_count": 7,
     "metadata": {},
     "output_type": "execute_result"
    }
   ],
   "source": [
    "item_master.info()\n",
    "item_master[item_master.isnull().any(axis=1)]\n",
    "#Nothing to signal here"
   ]
  },
  {
   "cell_type": "code",
   "execution_count": 8,
   "metadata": {},
   "outputs": [
    {
     "name": "stdout",
     "output_type": "stream",
     "text": [
      "<class 'pandas.core.frame.DataFrame'>\n",
      "RangeIndex: 96466 entries, 0 to 96465\n",
      "Data columns (total 15 columns):\n",
      " #   Column                  Non-Null Count  Dtype  \n",
      "---  ------                  --------------  -----  \n",
      " 0   %KEY                    96466 non-null  int64  \n",
      " 1   Cost                    96466 non-null  float64\n",
      " 2   Customer Number         96466 non-null  int64  \n",
      " 3   Date                    96466 non-null  object \n",
      " 4   GrossSales              96466 non-null  float64\n",
      " 5   Invoice Date            96466 non-null  object \n",
      " 6   Invoice Number          96466 non-null  int64  \n",
      " 7   Item Desc               96466 non-null  object \n",
      " 8   Item Number             96466 non-null  int64  \n",
      " 9   Margin                  96466 non-null  float64\n",
      " 10  Order Number            96466 non-null  int64  \n",
      " 11  Promised Delivery Date  96466 non-null  object \n",
      " 12  Sales                   96466 non-null  float64\n",
      " 13  Sales Qty               96466 non-null  float64\n",
      " 14  Sales Rep Number        96466 non-null  int64  \n",
      "dtypes: float64(5), int64(6), object(4)\n",
      "memory usage: 11.0+ MB\n"
     ]
    }
   ],
   "source": [
    "sales.info()\n",
    "sales[sales.isnull().any(axis=1)]\n",
    "#We need to change the format of Date and Promised Delivery Date\n",
    "sales['Date'] = pd.to_datetime(sales['Date'])\n",
    "sales['Promised Delivery Date'] = pd.to_datetime(sales['Promised Delivery Date'])"
   ]
  },
  {
   "cell_type": "code",
   "execution_count": 9,
   "metadata": {},
   "outputs": [
    {
     "name": "stdout",
     "output_type": "stream",
     "text": [
      "<class 'pandas.core.frame.DataFrame'>\n",
      "RangeIndex: 64 entries, 0 to 63\n",
      "Data columns (total 8 columns):\n",
      " #   Column           Non-Null Count  Dtype \n",
      "---  ------           --------------  ----- \n",
      " 0   Manager          64 non-null     object\n",
      " 1   Manager Number   64 non-null     int64 \n",
      " 2   Path             64 non-null     object\n",
      " 3   Sales Rep Name   64 non-null     object\n",
      " 4   Sales Rep Name1  64 non-null     object\n",
      " 5   Sales Rep Name2  59 non-null     object\n",
      " 6   Sales Rep Name3  39 non-null     object\n",
      " 7   Sales Rep ID     64 non-null     int64 \n",
      "dtypes: int64(2), object(6)\n",
      "memory usage: 4.1+ KB\n"
     ]
    },
    {
     "data": {
      "text/html": [
       "<div>\n",
       "<style scoped>\n",
       "    .dataframe tbody tr th:only-of-type {\n",
       "        vertical-align: middle;\n",
       "    }\n",
       "\n",
       "    .dataframe tbody tr th {\n",
       "        vertical-align: top;\n",
       "    }\n",
       "\n",
       "    .dataframe thead th {\n",
       "        text-align: right;\n",
       "    }\n",
       "</style>\n",
       "<table border=\"1\" class=\"dataframe\">\n",
       "  <thead>\n",
       "    <tr style=\"text-align: right;\">\n",
       "      <th></th>\n",
       "      <th>Manager</th>\n",
       "      <th>Manager Number</th>\n",
       "      <th>Path</th>\n",
       "      <th>Sales Rep Name</th>\n",
       "      <th>Sales Rep Name1</th>\n",
       "      <th>Sales Rep Name2</th>\n",
       "      <th>Sales Rep Name3</th>\n",
       "      <th>Sales Rep ID</th>\n",
       "    </tr>\n",
       "  </thead>\n",
       "  <tbody>\n",
       "  </tbody>\n",
       "</table>\n",
       "</div>"
      ],
      "text/plain": [
       "Empty DataFrame\n",
       "Columns: [Manager, Manager Number, Path, Sales Rep Name, Sales Rep Name1, Sales Rep Name2, Sales Rep Name3, Sales Rep ID]\n",
       "Index: []"
      ]
     },
     "execution_count": 9,
     "metadata": {},
     "output_type": "execute_result"
    }
   ],
   "source": [
    "sales_rep.info()\n",
    "sales_rep[sales_rep.isnull().any(axis=1)]\n",
    "sales_rep.fillna('Nobody', inplace=True)\n",
    "sales_rep[sales_rep.isnull().any(axis=1)]"
   ]
  },
  {
   "cell_type": "code",
   "execution_count": 10,
   "metadata": {},
   "outputs": [],
   "source": [
    "#Rename Sales Rep Number in sales.csv so we can join easily\n",
    "sales.rename(columns={'Sales Rep Number' : 'Sales Rep ID'}, inplace=True)"
   ]
  },
  {
   "cell_type": "code",
   "execution_count": 11,
   "metadata": {},
   "outputs": [],
   "source": [
    "#left join to create the ultimate dataframe\n",
    "sales_with_customer = pd.merge(sales,\n",
    "                        customers[['Customer','Customer Number', 'City Code']],\n",
    "                        how='left',\n",
    "                        on='Customer Number')\n",
    "\n",
    "sales_with_cities = pd.merge(sales_with_customer,\n",
    "                        cities[['City', 'City Code', 'Region', 'Latitude', 'Longitude', 'Desc']],\n",
    "                        how='left',\n",
    "                        on='City Code')\n",
    "\n",
    "sales_item_master = pd.merge(sales_with_cities,\n",
    "                        item_master[['Item Number', 'Product Group', 'Product Line', 'Product Sub Group', 'Product Type']],\n",
    "                        how='left',\n",
    "                        on='Item Number')\n",
    "\n",
    "final_sales = pd.merge(sales_item_master,\n",
    "                    sales_rep[['Manager','Manager Number', 'Path', 'Sales Rep Name','Sales Rep Name1', 'Sales Rep Name2', 'Sales Rep Name3', 'Sales Rep ID']],\n",
    "                    how='left',\n",
    "                    on='Sales Rep ID')"
   ]
  },
  {
   "cell_type": "code",
   "execution_count": 12,
   "metadata": {},
   "outputs": [
    {
     "data": {
      "text/plain": [
       "Index(['%KEY', 'Cost', 'Customer Number', 'Date', 'GrossSales', 'Invoice Date',\n",
       "       'Invoice Number', 'Item Desc', 'Item Number', 'Margin', 'Order Number',\n",
       "       'Promised Delivery Date', 'Sales', 'Sales Qty', 'Sales Rep ID',\n",
       "       'Customer', 'City Code', 'City', 'Region', 'Latitude', 'Longitude',\n",
       "       'Desc', 'Product Group', 'Product Line', 'Product Sub Group',\n",
       "       'Product Type', 'Manager', 'Manager Number', 'Path', 'Sales Rep Name',\n",
       "       'Sales Rep Name1', 'Sales Rep Name2', 'Sales Rep Name3'],\n",
       "      dtype='object')"
      ]
     },
     "execution_count": 12,
     "metadata": {},
     "output_type": "execute_result"
    }
   ],
   "source": [
    "final_sales.columns"
   ]
  },
  {
   "cell_type": "code",
   "execution_count": 13,
   "metadata": {},
   "outputs": [],
   "source": [
    "#Add a collumn to find the delivery time expected by order\n",
    "final_sales['Delivery Time'] = (final_sales['Promised Delivery Date'] - final_sales['Date']).dt.days\n",
    "\n",
    "#in some cases, the number is negative like if the Promised Delivery Date was before the Date of purchase...\n",
    "#so I don't think my next chart is relevant"
   ]
  },
  {
   "cell_type": "code",
   "execution_count": 14,
   "metadata": {},
   "outputs": [
    {
     "data": {
      "text/plain": [
       "<AxesSubplot:title={'center':'Avg delivery time per Region (in days)'}, xlabel='Region'>"
      ]
     },
     "execution_count": 14,
     "metadata": {},
     "output_type": "execute_result"
    },
    {
     "data": {
      "image/png": "[encoded data removed]",
      "text/plain": [
       "<Figure size 432x288 with 1 Axes>"
      ]
     },
     "metadata": {
      "needs_background": "light"
     },
     "output_type": "display_data"
    }
   ],
   "source": [
    "final_sales.groupby('Region').mean()['Delivery Time'].plot(kind='bar', title='Avg delivery time per Region (in days)')\n",
    "#seeing the chart, we have a delivery problem in the UK that we should fix\n",
    "#not sure it is relevant like explained above"
   ]
  }
 ],
 "metadata": {
  "kernelspec": {
   "display_name": "Python 3.10.4 64-bit",
   "language": "python",
   "name": "python3"
  },
  "language_info": {
   "codemirror_mode": {
    "name": "ipython",
    "version": 3
   },
   "file_extension": ".py",
   "mimetype": "text/x-python",
   "name": "python",
   "nbconvert_exporter": "python",
   "pygments_lexer": "ipython3",
   "version": "3.10.4"
  },
  "orig_nbformat": 4,
  "vscode": {
   "interpreter": {
    "hash": "aee8b7b246df8f9039afb4144a1f6fd8d2ca17a180786b69acc140d282b71a49"
   }
  }
 },
 "nbformat": 4,
 "nbformat_minor": 2
}
