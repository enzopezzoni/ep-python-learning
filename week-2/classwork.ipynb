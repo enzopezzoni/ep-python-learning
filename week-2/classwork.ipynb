{
 "cells": [
  {
   "cell_type": "code",
   "execution_count": null,
   "metadata": {},
   "outputs": [],
   "source": [
    "string_1 = 'line'\n",
    "string_2 = 'text'\n",
    "\n",
    "#check if the two are equal, print 'they are the same' if they are\n",
    "#otherwise print 'they are not the same'\n",
    "\n",
    "population = 12000000\n",
    "area = 15000\n",
    "\n",
    "#if the population per area is greater than 20000\n",
    "#print, overpopulated\n",
    "#otherwise print underpopulated\n",
    "\n",
    "#check if a number is less than, greater, or equal to 55\n",
    "number = 55\n"
   ]
  },
  {
   "cell_type": "code",
   "execution_count": null,
   "metadata": {},
   "outputs": [],
   "source": [
    "#Challenge 1\n",
    "#check if a password is valid based on the following rules\n",
    "# at least one letter between[a-z] and at least one letter between [A-Z]\n",
    "# at least one number between [0-9]\n",
    "# at leat one character from [$@#]\n",
    "# minimum length of 6 characters\n",
    "# maximum length of 16 characters\n"
   ]
  },
  {
   "cell_type": "code",
   "execution_count": 20,
   "metadata": {},
   "outputs": [
    {
     "name": "stdout",
     "output_type": "stream",
     "text": [
      "yaaah you are correct\n"
     ]
    }
   ],
   "source": [
    "#Challenge 2\n",
    "#prompt the user to enter a value between 1 and 10\n",
    "# compare the input with your secret number\n",
    "# if input if less that secret print 'too small'\n",
    "# if input if greater that secret print 'too big'\n",
    "#if its equal, print 'yaaah you are correct', then end\n",
    "\n",
    "secret_number = 7\n",
    "user_number = int(input('Choose a number between 1 and 10 '))\n",
    "\n",
    "if user_number == secret_number:\n",
    "    print('yaaah you are correct')\n",
    "elif user_number < secret_number:\n",
    "    print('Too small')\n",
    "elif user_number > secret_number:\n",
    "    print('Too big')"
   ]
  },
  {
   "cell_type": "code",
   "execution_count": null,
   "metadata": {},
   "outputs": [],
   "source": [
    "#user input from keyboard\n",
    "name = input('Type your name here: ')\n",
    "print(name)\n",
    "\n",
    "#remember that all input from keyboard is string\n",
    "#never forget to convert if you expect int or float\n",
    "\n",
    "number_one = int(input('Enter first number '))\n",
    "number_two = int(input('Enter second number '))\n",
    "print(number_one + number_two)"
   ]
  },
  {
   "cell_type": "code",
   "execution_count": 3,
   "metadata": {},
   "outputs": [
    {
     "name": "stdout",
     "output_type": "stream",
     "text": [
      "B\n"
     ]
    }
   ],
   "source": [
    "#Challenge 3\n",
    "#print the letter grade given a score\n",
    "#80 and above, print 'A'\n",
    "#60 ot 79 print 'B'\n",
    "#50 to 59 print 'C'\n",
    "#otherwise print 'F' (0 - 49)\n",
    "\n",
    "score = 69\n",
    "\n",
    "if score >= 80:\n",
    "    print('A')\n",
    "elif score >= 60 and score <= 79:\n",
    "    print('B')\n",
    "elif score >= 50 and score <= 59:\n",
    "    print('C')\n",
    "else:\n",
    "    print('F')"
   ]
  },
  {
   "cell_type": "code",
   "execution_count": 13,
   "metadata": {},
   "outputs": [
    {
     "name": "stdout",
     "output_type": "stream",
     "text": [
      "no vowel\n"
     ]
    }
   ],
   "source": [
    "#check if a character is a vowel\n",
    "\n",
    "letter_one = 'a' #True\n",
    "letter_two = 'i' #True\n",
    "letter_three = 'x' #False\n",
    "letter_four = 'u' #False\n",
    "test = letter_three\n",
    "\n",
    "#if test == 'a' or test == 'e' or test == 'i' or test == 'o' or test == 'u':\n",
    "#    print('you are a vowel')\n",
    "#else:\n",
    "#    print('you are not a vowel')\n",
    "\n",
    "#use the 'in' operator to check for membership in a list or string\n",
    "\n",
    "vowels = 'eaiou'\n",
    "if test in vowels:\n",
    "    print('vowel')\n",
    "else:\n",
    "    print('no vowel')"
   ]
  },
  {
   "cell_type": "code",
   "execution_count": 22,
   "metadata": {},
   "outputs": [
    {
     "name": "stdout",
     "output_type": "stream",
     "text": [
      "1\n",
      "2\n",
      "fizz\n",
      "4\n",
      "buzz\n",
      "fizz\n",
      "7\n",
      "8\n",
      "fizz\n",
      "buzz\n",
      "11\n",
      "fizz\n",
      "13\n",
      "14\n",
      "fizzbuzz\n",
      "16\n",
      "17\n",
      "fizz\n",
      "19\n",
      "buzz\n",
      "fizz\n",
      "22\n",
      "23\n",
      "fizz\n",
      "buzz\n",
      "26\n",
      "fizz\n",
      "28\n",
      "29\n",
      "fizzbuzz\n",
      "31\n",
      "32\n",
      "fizz\n",
      "34\n",
      "buzz\n",
      "fizz\n",
      "37\n",
      "38\n",
      "fizz\n",
      "buzz\n",
      "41\n",
      "fizz\n",
      "43\n",
      "44\n",
      "fizzbuzz\n",
      "46\n",
      "47\n",
      "fizz\n",
      "49\n",
      "buzz\n"
     ]
    }
   ],
   "source": [
    "#fizzbuzz\n",
    "#if number is divisible by 3, print 'fizz'\n",
    "#if number is divisible by 5, print 'buzz'\n",
    "#if number is divisible by 15, print 'fizzbuzz'\n",
    "#otherwize just print the number\n",
    "\n",
    "for num in range(1, 51):\n",
    "    #your code here\n",
    "    if num % 15 == 0:\n",
    "        print('fizzbuzz')\n",
    "    elif num % 5 == 0:\n",
    "        print('buzz')\n",
    "    elif num % 3 == 0:\n",
    "        print('fizz')\n",
    "    else:\n",
    "        print(num)"
   ]
  }
 ],
 "metadata": {
  "interpreter": {
   "hash": "31f2aee4e71d21fbe5cf8b01ff0e069b9275f58929596ceb00d14d90e3e16cd6"
  },
  "kernelspec": {
   "display_name": "Python 3.8.9 64-bit",
   "language": "python",
   "name": "python3"
  },
  "language_info": {
   "codemirror_mode": {
    "name": "ipython",
    "version": 3
   },
   "file_extension": ".py",
   "mimetype": "text/x-python",
   "name": "python",
   "nbconvert_exporter": "python",
   "pygments_lexer": "ipython3",
   "version": "3.8.9"
  },
  "orig_nbformat": 4
 },
 "nbformat": 4,
 "nbformat_minor": 2
}
