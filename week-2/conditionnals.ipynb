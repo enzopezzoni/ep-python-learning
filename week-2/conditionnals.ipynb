{
 "cells": [
  {
   "cell_type": "code",
   "execution_count": null,
   "metadata": {},
   "outputs": [],
   "source": [
    "#Truthy vs Falsey\n",
    "#Some values are inherently true and some are false\n",
    "#The value 0 is falsey\n",
    "#Any positive integer is truthy\n",
    "#Empty string is falsey\n",
    "#None is also falsey\n",
    "#Empty list is falsey"
   ]
  },
  {
   "cell_type": "code",
   "execution_count": 12,
   "metadata": {},
   "outputs": [
    {
     "name": "stdout",
     "output_type": "stream",
     "text": [
      "you are eligible to vote\n",
      "too far\n",
      "good day for python\n",
      "if else\n"
     ]
    }
   ],
   "source": [
    "age = 19\n",
    "#print 'eligible to vote' if age is greater or equal 18\n",
    "if age >= 18:\n",
    "    print('you are eligible to vote')\n",
    "\n",
    "#print 'too far' if distance between city_one and city_two is greater than 10\n",
    "city_one = 45\n",
    "city_two = 56\n",
    "\n",
    "if city_two - city_one > 10:\n",
    "    print('too far')\n",
    "\n",
    "#else\n",
    "day_of_week = 'Mon'\n",
    "#print 'good day for python' if the day of week if Mon\n",
    "# otherwize, print 'lets do something else'\n",
    "if day_of_week == 'Mon':\n",
    "    print('good day for python')\n",
    "else:\n",
    "    print('lets do something else')\n",
    "\n",
    "#multiple options\n",
    "#Mon - 'if else'\n",
    "#Wed - 'loops'\n",
    "#Fri - 'homework'\n",
    "#any other day - 'Fun stuff woohoo!!'\n",
    "if day_of_week == 'Mon':\n",
    "    print('if else')\n",
    "elif day_of_week == 'Wed':\n",
    "    print('loops')\n",
    "elif day_of_week == 'Fri':\n",
    "    print('homework')\n",
    "else:\n",
    "    print('Fun stff woohoo')\n",
    "\n"
   ]
  },
  {
   "cell_type": "code",
   "execution_count": 22,
   "metadata": {},
   "outputs": [
    {
     "name": "stdout",
     "output_type": "stream",
     "text": [
      "None\n",
      "Go biking\n"
     ]
    }
   ],
   "source": [
    "#compound statement in our if\n",
    "#if it a Monday and it is raining stay inside\n",
    "\n",
    "day_of_week = 'Wed'\n",
    "weather = 'sunny'\n",
    "action = None\n",
    "\n",
    "if day_of_week == 'Mon' and weather == 'sunny':\n",
    "    action = 'stay inside'\n",
    "\n",
    "print(action)\n",
    "\n",
    "#and - all conditions have to be true for the result to be true\n",
    "\n",
    "if day_of_week == 'Wed' or weather == 'sunny':\n",
    "    action = 'Go biking'\n",
    "\n",
    "print(action)"
   ]
  },
  {
   "cell_type": "code",
   "execution_count": null,
   "metadata": {},
   "outputs": [],
   "source": []
  }
 ],
 "metadata": {
  "interpreter": {
   "hash": "31f2aee4e71d21fbe5cf8b01ff0e069b9275f58929596ceb00d14d90e3e16cd6"
  },
  "kernelspec": {
   "display_name": "Python 3.8.9 64-bit",
   "language": "python",
   "name": "python3"
  },
  "language_info": {
   "codemirror_mode": {
    "name": "ipython",
    "version": 3
   },
   "file_extension": ".py",
   "mimetype": "text/x-python",
   "name": "python",
   "nbconvert_exporter": "python",
   "pygments_lexer": "ipython3",
   "version": "3.8.9"
  },
  "orig_nbformat": 4
 },
 "nbformat": 4,
 "nbformat_minor": 2
}
