{
 "cells": [
  {
   "cell_type": "code",
   "execution_count": 4,
   "metadata": {},
   "outputs": [
    {
     "name": "stdout",
     "output_type": "stream",
     "text": [
      "7\n"
     ]
    }
   ],
   "source": [
    "#the for loop\n",
    "\n",
    "my_string = 'this is an arbitrary string'\n",
    "\n",
    "#how would find the number of vowel in this string\n",
    "\n",
    "#1. put vowels in a list and store it in a variable\n",
    "#2. iterate over the string and check each letter in the string if it is in the list\n",
    "#3. we need a other variable, so that each time one letter is a vowel we add one to this variable\n",
    "\n",
    "vowels = ['a','e','i','o','u','A','E','I','O','U']\n",
    "vowel_count = 0\n",
    "\n",
    "for letter in my_string:\n",
    "    if letter in vowels:\n",
    "        vowel_count += 1\n",
    "\n",
    "print(vowel_count)"
   ]
  },
  {
   "cell_type": "code",
   "execution_count": 7,
   "metadata": {},
   "outputs": [
    {
     "name": "stdout",
     "output_type": "stream",
     "text": [
      "no zero\n",
      "no zero\n",
      "no zero\n",
      "no zero\n",
      "no zero\n",
      "no zero\n",
      "Found a zero\n",
      "no zero\n"
     ]
    }
   ],
   "source": [
    "#check if there is a zero in this list\n",
    "#if yes, print \"found a zero\", if no, print \"no zero\"\n",
    "\n",
    "nums =[-1, -5, 4, 3, 7, 8, 0, -7]\n",
    "\n",
    "for num in nums:\n",
    "    if num == 0:\n",
    "        print('Found a zero')\n",
    "    else:\n",
    "        print('no zero')\n"
   ]
  },
  {
   "cell_type": "code",
   "execution_count": 10,
   "metadata": {},
   "outputs": [
    {
     "name": "stdout",
     "output_type": "stream",
     "text": [
      "13\n"
     ]
    }
   ],
   "source": [
    "#print only the first odd number in this list\n",
    "\n",
    "my_nums = [0, 2, -6, 13, 5, 24, 11, 3] #result is 13\n",
    "\n",
    "for my_num in my_nums:\n",
    "    if my_num % 2 != 0:\n",
    "        print(my_num)\n",
    "        break\n"
   ]
  },
  {
   "cell_type": "code",
   "execution_count": 12,
   "metadata": {},
   "outputs": [
    {
     "name": "stdout",
     "output_type": "stream",
     "text": [
      "51\n",
      "59 -8\n"
     ]
    }
   ],
   "source": [
    "#find the sum of all the numbers in this list\n",
    "temps = [-2, -5, -1, 0, 2, 5, 11, 7, 13, 21] #51\n",
    "total = 0\n",
    "\n",
    "for temp in temps:\n",
    "    total += temp\n",
    "\n",
    "print(total)\n",
    "\n",
    "\n",
    "#calculate two totals: total of the negative numbers, and total of the positive numbers\n",
    "positive_total = 0\n",
    "negative_total = 0\n",
    "\n",
    "for temp in temps:\n",
    "    if temp > 0:\n",
    "        positive_total += temp\n",
    "    else:\n",
    "        negative_total += temp\n",
    "\n",
    "print(positive_total, negative_total)"
   ]
  },
  {
   "cell_type": "code",
   "execution_count": 18,
   "metadata": {},
   "outputs": [
    {
     "name": "stdout",
     "output_type": "stream",
     "text": [
      "Pyth n  s  m z ng\n"
     ]
    }
   ],
   "source": [
    "#create a new string from this string, with all the vowels removed\n",
    "\n",
    "string = 'Python is amazing' #Pyth n  s  m z ng\n",
    "new_string = ''\n",
    "\n",
    "for lett in string:\n",
    "    if lett not in vowels:\n",
    "        new_string += str(lett)\n",
    "    else:\n",
    "        new_string += ' '\n",
    "\n",
    "print(new_string)"
   ]
  },
  {
   "cell_type": "code",
   "execution_count": 22,
   "metadata": {},
   "outputs": [
    {
     "name": "stdout",
     "output_type": "stream",
     "text": [
      "3\n"
     ]
    }
   ],
   "source": [
    "#for loops using indeces\n",
    "\n",
    "#what if we want to know the index of a value in a list\n",
    "\n",
    "values = [-1, 5, 3, 7, 2, 8, 7, -11, 23] \n",
    "#what is the index of the first 7 in the list (3)\n",
    "#we need to use the range function\n",
    "\n",
    "first_seven_index = -1\n",
    "for idx in range(len(values)):\n",
    "    if values[idx] == 7:\n",
    "        first_seven_index = idx\n",
    "        break\n",
    "\n",
    "print(first_seven_index)"
   ]
  },
  {
   "cell_type": "code",
   "execution_count": 25,
   "metadata": {},
   "outputs": [
    {
     "name": "stdout",
     "output_type": "stream",
     "text": [
      "[1, 5]\n",
      "['Cancun', 'Los Cabos', 'New Orleans', 'Montego Bay', 'Rio De Janeiro', 'Los Cabos']\n"
     ]
    }
   ],
   "source": [
    "#challenge\n",
    "cities = ['Cancun', 'Cozumel', 'New Orleans', 'Montego Bay', 'Rio De Janeiro', 'Cozumel']\n",
    "cozumel_position = []\n",
    "#1. first, find the position of all the 'Cozumel' in the list\n",
    "#2. store them in  anew list\n",
    "#3. print th new list\n",
    "#4. replace Cozumel with Los Cabos in the list\n",
    "\n",
    "for idx in range(len(cities)):\n",
    "    if cities[idx] == 'Cozumel':\n",
    "        cozumel_position.append(idx)\n",
    "\n",
    "for cozumels in cozumel_position:\n",
    "    cities[cozumels] = 'Los Cabos'\n",
    "\n",
    "print(cozumel_position)\n",
    "print(cities)"
   ]
  }
 ],
 "metadata": {
  "interpreter": {
   "hash": "aee8b7b246df8f9039afb4144a1f6fd8d2ca17a180786b69acc140d282b71a49"
  },
  "kernelspec": {
   "display_name": "Python 3.10.4 64-bit",
   "language": "python",
   "name": "python3"
  },
  "language_info": {
   "codemirror_mode": {
    "name": "ipython",
    "version": 3
   },
   "file_extension": ".py",
   "mimetype": "text/x-python",
   "name": "python",
   "nbconvert_exporter": "python",
   "pygments_lexer": "ipython3",
   "version": "3.10.4"
  },
  "orig_nbformat": 4
 },
 "nbformat": 4,
 "nbformat_minor": 2
}
