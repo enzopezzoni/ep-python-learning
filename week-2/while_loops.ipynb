{
 "cells": [
  {
   "cell_type": "code",
   "execution_count": 3,
   "metadata": {},
   "outputs": [
    {
     "name": "stdout",
     "output_type": "stream",
     "text": [
      "0\n",
      "1\n",
      "2\n",
      "3\n",
      "4\n",
      "5\n",
      "6\n",
      "7\n",
      "8\n",
      "9\n"
     ]
    }
   ],
   "source": [
    "#while loops\n",
    "\n",
    "number = 0\n",
    "while number < 10:\n",
    "    print(number)\n",
    "    number += 1\n"
   ]
  },
  {
   "cell_type": "code",
   "execution_count": 4,
   "metadata": {},
   "outputs": [
    {
     "name": "stdout",
     "output_type": "stream",
     "text": [
      "Not corecct, guess again\n"
     ]
    }
   ],
   "source": [
    "#continously ask for user input\n",
    "#prompt the user to guess a secret number\n",
    "#use a random module to generate a renfom integer\n",
    "\n",
    "import random\n",
    "\n",
    "secret_number = random.randint(1,10)\n",
    "guess = int(input('Guess the secret number (its between 1 and 10)'))\n",
    "\n",
    "while guess != secret_number:\n",
    "    print('Not corect, guess again')\n",
    "    guess = int(input('Guess the secret number (its between 1 and 10)'))\n",
    "\n",
    "print('yaaaah! you are correct')\n"
   ]
  },
  {
   "cell_type": "code",
   "execution_count": null,
   "metadata": {},
   "outputs": [],
   "source": [
    "#infinite loop, deliberately\n",
    "\n",
    "while True:"
   ]
  }
 ],
 "metadata": {
  "kernelspec": {
   "display_name": "Python 3.10.4 64-bit",
   "language": "python",
   "name": "python3"
  },
  "language_info": {
   "codemirror_mode": {
    "name": "ipython",
    "version": 3
   },
   "file_extension": ".py",
   "mimetype": "text/x-python",
   "name": "python",
   "nbconvert_exporter": "python",
   "pygments_lexer": "ipython3",
   "version": "3.10.4"
  },
  "orig_nbformat": 4,
  "vscode": {
   "interpreter": {
    "hash": "aee8b7b246df8f9039afb4144a1f6fd8d2ca17a180786b69acc140d282b71a49"
   }
  }
 },
 "nbformat": 4,
 "nbformat_minor": 2
}
