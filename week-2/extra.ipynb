{
 "cells": [
  {
   "cell_type": "code",
   "execution_count": 11,
   "metadata": {},
   "outputs": [
    {
     "name": "stdout",
     "output_type": "stream",
     "text": [
      "381.5\n"
     ]
    }
   ],
   "source": [
    "import csv\n",
    "\n",
    "total_amount = 0\n",
    "\n",
    "with open('uber_eats.csv') as data_file:\n",
    "    data = csv.reader(data_file)\n",
    "\n",
    "    #find the total amount spent on uber eats\n",
    "    for row in data:\n",
    "        if row[2] != 'price':\n",
    "            total_amount += float(row[2])\n",
    "\n",
    "print(total_amount)"
   ]
  }
 ],
 "metadata": {
  "interpreter": {
   "hash": "aee8b7b246df8f9039afb4144a1f6fd8d2ca17a180786b69acc140d282b71a49"
  },
  "kernelspec": {
   "display_name": "Python 3.10.4 64-bit",
   "language": "python",
   "name": "python3"
  },
  "language_info": {
   "codemirror_mode": {
    "name": "ipython",
    "version": 3
   },
   "file_extension": ".py",
   "mimetype": "text/x-python",
   "name": "python",
   "nbconvert_exporter": "python",
   "pygments_lexer": "ipython3",
   "version": "3.10.4"
  },
  "orig_nbformat": 4
 },
 "nbformat": 4,
 "nbformat_minor": 2
}
