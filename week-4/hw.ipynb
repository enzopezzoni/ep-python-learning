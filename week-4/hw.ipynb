{
 "cells": [
  {
   "cell_type": "code",
   "execution_count": 56,
   "metadata": {},
   "outputs": [],
   "source": [
    "#Define a class BankAccount\n",
    "#A BankAccount has an id, an account_number, a name (the person who owns the account), and a balance\n",
    "#The opening balance of the account is 0\n",
    "\n",
    "class BankAccount:\n",
    "    def __init__(self, id, account_number, name, account_balance = 0):\n",
    "        #implement the init method\n",
    "        self.id = id\n",
    "        self.account_number = account_number\n",
    "        self.name = name\n",
    "        self.account_balance = account_balance\n",
    "\n",
    "#Implement deposit and withdraw methods for the BankAccount class\n",
    "#We dont allow overdrafts for our accounts, so remember to check that you have a sufficient balance when you are doing a withdrawal\n",
    "\n",
    "    def deposit(self, amount):\n",
    "        self.balance += amount\n",
    "        print(f\"Your account #{self.account_number} has now a balance of ${self.account_balance}\")\n",
    "\n",
    "    def withdrawal(self, amount):\n",
    "        if self.account_balance >= amount:\n",
    "            print(\"Here is your money\")\n",
    "            self.balance -= amount\n",
    "        else:\n",
    "            print(\"You don't have enough funds available\")\n",
    "\n",
    "#Implement the __repr__ method to display the id, account_number, name, and balance for an account\n",
    "\n",
    "    def __repr__ (self):\n",
    "        return f\"Hello {self.name}, you have ${self.account_balance} available on your account #{self.account_number}\"\n"
   ]
  },
  {
   "cell_type": "code",
   "execution_count": 57,
   "metadata": {},
   "outputs": [
    {
     "name": "stdout",
     "output_type": "stream",
     "text": [
      "Hello Cheyenne, you have $42000 available on your account #202204221620\n",
      "['Enzo', 'Stephane', 'Moaad', 'Oscar', 'Mikolaj', 'Romain', 'Cheyenne']\n"
     ]
    }
   ],
   "source": [
    "#Create ten BankAccount objects and insert them into a list\n",
    "#We want to send out an email to all the bank account holders\n",
    "#Write a function get_eligible_accounts, that takes the list of accounnts\n",
    "# and a target_balance and returns a new list with only those accounts\n",
    "#that have a balance greater than a target_balance\n",
    "\n",
    "enzo_pezzoni = BankAccount(1, 202204221611, \"Enzo\", 45000)\n",
    "stephane_dupont = BankAccount(1, 202204221612, \"Stephane\", 42000)\n",
    "quentin_lebaccon = BankAccount(1, 202204221613, \"Quentin\", 23000)\n",
    "moaad_elkhalifi = BankAccount(1, 202204221614, \"Moaad\", 56000)\n",
    "oscar_lantoine = BankAccount(1, 202204221615, \"Oscar\", 58000)\n",
    "mikolaj_truszkowski = BankAccount(1, 202204221616, \"Mikolaj\", 85000)\n",
    "xavier_richomme = BankAccount(1, 202204221617, \"Xavier\", 35000)\n",
    "romain_pezzoni = BankAccount(1, 202204221618, \"Romain\", 94000)\n",
    "maxime_juncaparent = BankAccount(1, 202204221619, \"Maxime\", 26000)\n",
    "cheyenne_deluca = BankAccount(1, 202204221620, \"Cheyenne\", 42000)\n",
    "\n",
    "print(cheyenne_deluca)\n",
    "\n",
    "bank_accounts =[enzo_pezzoni, stephane_dupont, quentin_lebaccon, moaad_elkhalifi, oscar_lantoine, mikolaj_truszkowski, xavier_richomme, romain_pezzoni, maxime_juncaparent, cheyenne_deluca]\n",
    "\n",
    "def get_eligible_accounts(list_of_accounts, target_balance):\n",
    "    eligble_accounts = []\n",
    "    for account in range(len(list_of_accounts)):\n",
    "        if list_of_accounts[account].account_balance > target_balance:\n",
    "            eligble_accounts.append(bank_accounts[account].name)\n",
    "        else:\n",
    "            pass\n",
    "    print(eligble_accounts)\n",
    "\n",
    "get_eligible_accounts(bank_accounts, 40000)\n",
    "\n",
    "    \n",
    "\n"
   ]
  },
  {
   "cell_type": "code",
   "execution_count": 58,
   "metadata": {},
   "outputs": [],
   "source": [
    "#Define a class Flight that we will use to track an airline flight\n",
    "# and all the bookings we have\n",
    "#The Fight class has flight_number, origin, destination, capacity\n",
    "\n",
    "class Flight:\n",
    "    def __init__(self, flight_number, origin, destination, capacity):\n",
    "        #define the init method\n",
    "        self.flight_number = flight_number\n",
    "        self.origin = origin\n",
    "        self.destination = destination\n",
    "        self.capacity = capacity\n",
    "        self.bookings = []\n",
    "\n",
    "#define a book method that books the flight\n",
    "#the book method must decrese the capacity of the flight \n",
    "#by 1 each time it is called\n",
    "\n",
    "    def book_flight(self, customer):\n",
    "        if type(customer) is Customer:\n",
    "            self.capacity -= 1\n",
    "            self.bookings.append(customer)\n",
    "        else:\n",
    "            print(\"You are not a customer\")\n",
    "\n",
    "\n",
    "    def get_bookings(self):\n",
    "        print(f\"Here is the booking list for flight #{self.flight_number} :\")\n",
    "        for booking_idx in range(len(self.bookings)):\n",
    "            print(self.bookings[booking_idx])\n",
    "        \n",
    "#define the __repr__ method that prints out a flight's number, origin, and destination\n",
    "\n",
    "    def __repr__(self):\n",
    "        return f\"Flight #{self.flight_number} from {self.origin} to {self.destination}\"\n",
    "    \n"
   ]
  },
  {
   "cell_type": "code",
   "execution_count": 59,
   "metadata": {},
   "outputs": [
    {
     "name": "stdout",
     "output_type": "stream",
     "text": [
      "247\n",
      "Here is the booking list for flight #AF256 :\n",
      "Customer #1000 - Mr/Ms Florence - 56yo - F\n",
      "Customer #1001 - Mr/Ms Carol - 52yo - F\n",
      "Customer #1002 - Mr/Ms Sika - 57yo - F\n"
     ]
    }
   ],
   "source": [
    "#Lets build on the airline application.\n",
    "#Create a customer class. Each customer has an id, name, age, sex\n",
    "\n",
    "class Customer:\n",
    "    def __init__(self, id, name, age, sex):\n",
    "        self.id = id\n",
    "        self.name = name\n",
    "        self.age = age\n",
    "        self.sex = sex\n",
    "    def __repr__(self):\n",
    "        return f\"Customer #{self.id} - Mr/Ms {self.name} - {self.age}yo - {self.sex}\"\n",
    "\n",
    "#Modify your book method to accept a customer.\n",
    "#Add this customer to a bookings list in your Flight class (modify your Flight class to have a bookings list)\n",
    "#Make sure that we can only insert a Customer object in our bookings list, and not other data type\n",
    "#implement a method get_bookings to display the id, name, age, and sex of all\n",
    "#the customers that have been booked on the flight\n",
    "\n",
    "paris_toronto = Flight(\"AF256\", \"Paris\", \"Toronto\", 250)\n",
    "\n",
    "florence_dagbovie = Customer(1000, \"Florence\", 56, \"F\")\n",
    "carol_dagbovie = Customer(1001, \"Carol\",52, \"F\")\n",
    "elizabeth_dagbovie = Customer(1002, \"Sika\", 57, \"F\")\n",
    "\n",
    "paris_toronto.book_flight(florence_dagbovie)\n",
    "paris_toronto.book_flight(carol_dagbovie)\n",
    "paris_toronto.book_flight(elizabeth_dagbovie)\n",
    "\n",
    "print(paris_toronto.capacity)\n",
    "paris_toronto.get_bookings()"
   ]
  }
 ],
 "metadata": {
  "kernelspec": {
   "display_name": "Python 3.10.4 64-bit",
   "language": "python",
   "name": "python3"
  },
  "language_info": {
   "codemirror_mode": {
    "name": "ipython",
    "version": 3
   },
   "file_extension": ".py",
   "mimetype": "text/x-python",
   "name": "python",
   "nbconvert_exporter": "python",
   "pygments_lexer": "ipython3",
   "version": "3.10.4"
  },
  "orig_nbformat": 4,
  "vscode": {
   "interpreter": {
    "hash": "aee8b7b246df8f9039afb4144a1f6fd8d2ca17a180786b69acc140d282b71a49"
   }
  }
 },
 "nbformat": 4,
 "nbformat_minor": 2
}
