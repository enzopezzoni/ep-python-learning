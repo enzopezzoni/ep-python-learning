{
 "cells": [
  {
   "cell_type": "code",
   "execution_count": 7,
   "metadata": {},
   "outputs": [
    {
     "name": "stdout",
     "output_type": "stream",
     "text": [
      "1. This is the first line in the file\n",
      "2. And this is the second line in the file\n"
     ]
    },
    {
     "data": {
      "text/plain": [
       "<function TextIOWrapper.close()>"
      ]
     },
     "execution_count": 7,
     "metadata": {},
     "output_type": "execute_result"
    }
   ],
   "source": [
    "#read from a file\n",
    "\n",
    "my_file = open('lines.txt')\n",
    "data = my_file.read()\n",
    "print(data)\n",
    "my_file.close"
   ]
  },
  {
   "cell_type": "code",
   "execution_count": 14,
   "metadata": {},
   "outputs": [
    {
     "name": "stdout",
     "output_type": "stream",
     "text": [
      "['1. This is the first line in the file\\n', '2. And this is the second line in the file']\n"
     ]
    }
   ],
   "source": [
    "my_file = open('lines.txt')\n",
    "line = my_file.readlines()\n",
    "print(line)\n",
    "my_file.close()"
   ]
  },
  {
   "cell_type": "code",
   "execution_count": 15,
   "metadata": {},
   "outputs": [
    {
     "name": "stdout",
     "output_type": "stream",
     "text": [
      "['1. This is the first line in the file\\n', '2. And this is the second line in the file']\n"
     ]
    }
   ],
   "source": [
    "#use with open if we dont want to bother about closing the file all the time\n",
    "\n",
    "with open('lines.txt') as my_file:\n",
    "    new_lines = my_file.readlines()\n",
    "    print(new_lines)"
   ]
  },
  {
   "cell_type": "code",
   "execution_count": 20,
   "metadata": {},
   "outputs": [],
   "source": [
    "#writing to a file\n",
    "\n",
    "with open('lines.txt', 'w') as lines_file:\n",
    "    lines_file.write('3. This is the third line (or should be) \\n')\n",
    "\n",
    "#using 'w' will overwrite any previous content\n",
    "#use append to add to existing content\n",
    "\n",
    "with open('lines.txt', 'a') as lines_file:\n",
    "    lines_file.write('4. A fourth line (actually the second after we wiped the previous \\n')"
   ]
  }
 ],
 "metadata": {
  "kernelspec": {
   "display_name": "Python 3.10.4 64-bit",
   "language": "python",
   "name": "python3"
  },
  "language_info": {
   "codemirror_mode": {
    "name": "ipython",
    "version": 3
   },
   "file_extension": ".py",
   "mimetype": "text/x-python",
   "name": "python",
   "nbconvert_exporter": "python",
   "pygments_lexer": "ipython3",
   "version": "3.10.4"
  },
  "orig_nbformat": 4,
  "vscode": {
   "interpreter": {
    "hash": "aee8b7b246df8f9039afb4144a1f6fd8d2ca17a180786b69acc140d282b71a49"
   }
  }
 },
 "nbformat": 4,
 "nbformat_minor": 2
}
