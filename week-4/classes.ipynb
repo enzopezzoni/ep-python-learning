{
 "cells": [
  {
   "cell_type": "code",
   "execution_count": 90,
   "metadata": {},
   "outputs": [
    {
     "name": "stdout",
     "output_type": "stream",
     "text": [
      "<class 'int'> <class 'str'> <class 'bool'>\n",
      "<class '__main__.Person'>\n",
      "27\n",
      "28\n"
     ]
    }
   ],
   "source": [
    "#OOP - Object Oriented Programing\n",
    "\n",
    "#1. write classes, these classes will have instance variables, and method (functions)\n",
    "#2. use classes to create objects\n",
    "\n",
    "#Instagram Account :\n",
    "\n",
    "#DATA (instance variables)\n",
    "#- username\n",
    "#- password\n",
    "#- posts\n",
    "#- followers\n",
    "\n",
    "#ACTIONS (methods)\n",
    "#- comments\n",
    "#- share\n",
    "#- block\n",
    "#- report\n",
    "#- follow\n",
    "#- unfollow\n",
    "#- like\n",
    "#- etc.\n",
    "\n",
    "#1. Encapsulation (data and action in a class) is the first concept when talking about OOP\n",
    "\n",
    "class Person:\n",
    "    def __init__(self, name, age):\n",
    "        #used to initialize the data members of the class (instane variables)\n",
    "        self.name = name\n",
    "        self.age = age\n",
    "        #name and age are instance variables\n",
    "    def birthday(self):\n",
    "       #increase age by 1\n",
    "        self.age += 1\n",
    "\n",
    "\n",
    "#instantiate the Person class\n",
    "p = Person('Enzo', 27)\n",
    "\n",
    "#p is an object that belongs to the Person class\n",
    "# or p is a instance of the Person class\n",
    "\n",
    "#so p is a variable (object) of type Person\n",
    "\n",
    "num = 10\n",
    "name = 'john'\n",
    "has_yacht = False\n",
    "\n",
    "print(type(num), type(name), type(has_yacht))\n",
    "print(type(p))\n",
    "\n",
    "print(p.age)\n",
    "p.birthday()\n",
    "print(p.age)"
   ]
  },
  {
   "cell_type": "code",
   "execution_count": 91,
   "metadata": {},
   "outputs": [
    {
     "name": "stdout",
     "output_type": "stream",
     "text": [
      "50\n",
      "30\n"
     ]
    }
   ],
   "source": [
    "# create a rectangle class\n",
    "# lenght and width insance variables\n",
    "# area and perimeter methods\n",
    "\n",
    "class Rectangle:\n",
    "\n",
    "    def __init__(self, length, width):\n",
    "        self.lenght = length\n",
    "        self.width = width\n",
    "\n",
    "    def area(self):\n",
    "        return self.lenght * self.width\n",
    "\n",
    "    def perimeter(self):\n",
    "        return (self.lenght + self.width)*2\n",
    "\n",
    "r = Rectangle(10, 5)\n",
    "\n",
    "print(r.area())\n",
    "print(r.perimeter())"
   ]
  },
  {
   "cell_type": "code",
   "execution_count": 92,
   "metadata": {},
   "outputs": [
    {
     "name": "stdout",
     "output_type": "stream",
     "text": [
      "Lose yourself\tRap/Hip Hop\tEminem ft. Cardi B\t2002\n"
     ]
    }
   ],
   "source": [
    "#create a Song class\n",
    "#title, genre, artist, year_of_release, rating instance variables\n",
    "\n",
    "class Song:\n",
    "\n",
    "    def __init__(self, title, genre):\n",
    "        self.title = title\n",
    "        self.genre = genre\n",
    "        self.artist = []\n",
    "        self.year_of_release = ''\n",
    "        self.rating = 0.0\n",
    "\n",
    "    def set_artist(self, artist):\n",
    "        self.artist.append(artist)\n",
    "\n",
    "    def set_year_of_release(self, year):\n",
    "        self.year_of_release = year\n",
    "\n",
    "    def __repr__(self):\n",
    "        #should return a string - you tell Python how to print your class\n",
    "        return f\"{self.title}\\t{self.genre}\\t{' ft. '.join(self.artist)}\\t{self.year_of_release}\"\n",
    "\n",
    "s = Song('Lose yourself', 'Rap/Hip Hop')\n",
    "\n",
    "s.set_artist('Eminem')\n",
    "s.set_artist('Cardi B')\n",
    "s.set_year_of_release('2002')\n",
    "\n",
    "print(s)"
   ]
  },
  {
   "cell_type": "code",
   "execution_count": 93,
   "metadata": {},
   "outputs": [
    {
     "name": "stdout",
     "output_type": "stream",
     "text": [
      "[Lose yourself\tRap/Hip Hop\tEminem ft. Cardi B\t2002, Bodak Yellow\tJazz\t\t]\n",
      "My_Fav\n",
      "-----------------\n",
      "1.\tLose yourself\tRap/Hip Hop\tEminem ft. Cardi B\t2002\n",
      "2.\tBodak Yellow\tJazz\t\t\n",
      "\n",
      "My_Fav\n",
      "-----------------\n",
      "1.\tLose yourself\tRap/Hip Hop\tEminem ft. Cardi B\t2002\n",
      "\n"
     ]
    }
   ],
   "source": [
    "#create a playlist\n",
    "#title, songs (list of Song objects)\n",
    "#add_song, remove_song, change_title, share methods\n",
    "\n",
    "class Playlist:\n",
    "    \n",
    "    #define the __init__ method\n",
    "    def __init__(self, title):\n",
    "        self.title = title\n",
    "        self.songs = []\n",
    "    \n",
    "    #define the add_song method\n",
    "    def add_song(self, added_song):\n",
    "        if type(added_song) is Song:\n",
    "            self.songs.append(added_song)\n",
    "\n",
    "    #define the remove_song method\n",
    "    def remove_song(self, title_to_remove):\n",
    "        song_index = -1\n",
    "        for idx in range(len(self.songs)):\n",
    "            if self.songs[idx].title == title_to_remove:\n",
    "                song_index = idx\n",
    "                self.songs.pop(idx)\n",
    "                break\n",
    "\n",
    "\n",
    "    #display my playlist like in a specific way\n",
    "    def __repr__(self):\n",
    "        song_string = ''\n",
    "        count = 1\n",
    "        for song in self.songs:\n",
    "            song_string += str(count) + '.\\t' + song.__repr__() + '\\n'\n",
    "            count += 1\n",
    "\n",
    "        return f\"{self.title}\\n-----------------\\n{song_string}\"\n",
    "\n",
    "\n",
    "favourite_songs = Playlist(\"My_Fav\") #create a playlist\n",
    "favourite_songs.add_song(s) #add the song we had previoulsy create\n",
    "\n",
    "new_song = Song('Bodak Yellow', 'Jazz') #create a new song\n",
    "favourite_songs.add_song(new_song) #add this new song\n",
    "favourite_songs.add_song('anything') #thanks to our if statement, this won't be added to the list\n",
    "\n",
    "\n",
    "print(favourite_songs.songs)\n",
    "\n",
    "print(favourite_songs)\n",
    "favourite_songs.remove_song('Bodak Yellow')\n",
    "print(favourite_songs)\n"
   ]
  }
 ],
 "metadata": {
  "kernelspec": {
   "display_name": "Python 3.10.4 64-bit",
   "language": "python",
   "name": "python3"
  },
  "language_info": {
   "codemirror_mode": {
    "name": "ipython",
    "version": 3
   },
   "file_extension": ".py",
   "mimetype": "text/x-python",
   "name": "python",
   "nbconvert_exporter": "python",
   "pygments_lexer": "ipython3",
   "version": "3.10.4"
  },
  "orig_nbformat": 4,
  "vscode": {
   "interpreter": {
    "hash": "aee8b7b246df8f9039afb4144a1f6fd8d2ca17a180786b69acc140d282b71a49"
   }
  }
 },
 "nbformat": 4,
 "nbformat_minor": 2
}
