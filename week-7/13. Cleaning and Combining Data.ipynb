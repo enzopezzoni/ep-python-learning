{
 "cells": [
  {
   "cell_type": "code",
   "execution_count": 2,
   "metadata": {},
   "outputs": [],
   "source": [
    "import pandas as pd\n",
    "import numpy as np\n",
    "import matplotlib as plt"
   ]
  },
  {
   "cell_type": "code",
   "execution_count": 19,
   "metadata": {},
   "outputs": [
    {
     "data": {
      "text/plain": [
       "Index(['order_id', 'order_date', 'ship_date', 'ship_mode', 'customer_id',\n",
       "       'product_id', 'sales', 'quantity', 'discount', 'profit', 'postal_code',\n",
       "       'region_id'],\n",
       "      dtype='object')"
      ]
     },
     "execution_count": 19,
     "metadata": {},
     "output_type": "execute_result"
    }
   ],
   "source": [
    "# 10.1 Identifying Missing Data\n",
    "# We will use the orders table from Super Store for these tasks\n",
    "orders = pd.read_csv('orders.csv')\n",
    "\n",
    "\n",
    "# A. Start with some exploratory analysis methods to inspect the data\n",
    "\n",
    "orders.columns"
   ]
  },
  {
   "cell_type": "code",
   "execution_count": 31,
   "metadata": {},
   "outputs": [
    {
     "data": {
      "text/plain": [
       "postal_code    807103\n",
       "region_id         196\n",
       "order_id            0\n",
       "order_date          0\n",
       "ship_date           0\n",
       "ship_mode           0\n",
       "customer_id         0\n",
       "product_id          0\n",
       "sales               0\n",
       "quantity            0\n",
       "discount            0\n",
       "profit              0\n",
       "dtype: int64"
      ]
     },
     "execution_count": 31,
     "metadata": {},
     "output_type": "execute_result"
    }
   ],
   "source": [
    "# B. Which column has the most missing data? Sort the columns by sum of null values\n",
    "#Postal_code\n",
    "\n",
    "orders.isna().sum().sort_values(ascending=False)\n"
   ]
  },
  {
   "cell_type": "code",
   "execution_count": 34,
   "metadata": {},
   "outputs": [],
   "source": [
    "# C. Looks like postal_code is our biggest problem, along with region_id\n",
    "# Use a combination of filtering, isnull, and sum to count how many rows are missing both columns\n",
    "\n",
    "#see above"
   ]
  },
  {
   "cell_type": "code",
   "execution_count": 38,
   "metadata": {},
   "outputs": [],
   "source": [
    "# D. Let's drop the region_id nulls from the dataframe before proceeding\n",
    "\n",
    "orders = orders.dropna(subset=['region_id'])"
   ]
  },
  {
   "cell_type": "code",
   "execution_count": 40,
   "metadata": {},
   "outputs": [
    {
     "name": "stderr",
     "output_type": "stream",
     "text": [
      "/var/folders/1p/qb4fmbcx6d77fyp93p8h41v40000gn/T/ipykernel_739/2577786275.py:3: SettingWithCopyWarning: \n",
      "A value is trying to be set on a copy of a slice from a DataFrame.\n",
      "Try using .loc[row_indexer,col_indexer] = value instead\n",
      "\n",
      "See the caveats in the documentation: https://pandas.pydata.org/pandas-docs/stable/user_guide/indexing.html#returning-a-view-versus-a-copy\n",
      "  orders['postal_code'] = orders['postal_code'].fillna(10001.0)\n"
     ]
    }
   ],
   "source": [
    "# E. It's the dream scenario! The IT team confirms all missing postal_code values should be 10001.0\n",
    "\n",
    "orders['postal_code'] = orders['postal_code'].fillna(10001.0)"
   ]
  },
  {
   "cell_type": "code",
   "execution_count": 63,
   "metadata": {},
   "outputs": [],
   "source": [
    "# 10.2 Cleaning Our Data\n",
    "# A. Write a profit_margin function that accepts a row of data, which is a dictionary\n",
    "#    It should return the result of dividing the profit column by the sales column (i.e. profit/sales)\n",
    "\n",
    "def get_profit_margin(profit, sales):\n",
    "    margin_profit = (profit/sales)*100\n",
    "    return margin_profit\n"
   ]
  },
  {
   "cell_type": "code",
   "execution_count": 47,
   "metadata": {},
   "outputs": [
    {
     "data": {
      "text/html": [
       "<div>\n",
       "<style scoped>\n",
       "    .dataframe tbody tr th:only-of-type {\n",
       "        vertical-align: middle;\n",
       "    }\n",
       "\n",
       "    .dataframe tbody tr th {\n",
       "        vertical-align: top;\n",
       "    }\n",
       "\n",
       "    .dataframe thead th {\n",
       "        text-align: right;\n",
       "    }\n",
       "</style>\n",
       "<table border=\"1\" class=\"dataframe\">\n",
       "  <thead>\n",
       "    <tr style=\"text-align: right;\">\n",
       "      <th></th>\n",
       "      <th>order_id</th>\n",
       "      <th>order_date</th>\n",
       "      <th>ship_date</th>\n",
       "      <th>ship_mode</th>\n",
       "      <th>customer_id</th>\n",
       "      <th>product_id</th>\n",
       "      <th>sales</th>\n",
       "      <th>quantity</th>\n",
       "      <th>discount</th>\n",
       "      <th>profit</th>\n",
       "      <th>postal_code</th>\n",
       "      <th>region_id</th>\n",
       "    </tr>\n",
       "  </thead>\n",
       "  <tbody>\n",
       "    <tr>\n",
       "      <th>0</th>\n",
       "      <td>AE-2016-1308551</td>\n",
       "      <td>2016-09-28</td>\n",
       "      <td>2016-10-02</td>\n",
       "      <td>Second Class</td>\n",
       "      <td>PO-8865</td>\n",
       "      <td>OFF-FEL-10001405</td>\n",
       "      <td>82.67</td>\n",
       "      <td>2</td>\n",
       "      <td>0.3</td>\n",
       "      <td>0.3</td>\n",
       "      <td>10001.0</td>\n",
       "      <td>9954.0</td>\n",
       "    </tr>\n",
       "  </tbody>\n",
       "</table>\n",
       "</div>"
      ],
      "text/plain": [
       "          order_id  order_date   ship_date     ship_mode customer_id  \\\n",
       "0  AE-2016-1308551  2016-09-28  2016-10-02  Second Class     PO-8865   \n",
       "\n",
       "         product_id  sales  quantity  discount  profit  postal_code  region_id  \n",
       "0  OFF-FEL-10001405  82.67         2       0.3     0.3      10001.0     9954.0  "
      ]
     },
     "execution_count": 47,
     "metadata": {},
     "output_type": "execute_result"
    }
   ],
   "source": [
    "orders.head(1)"
   ]
  },
  {
   "cell_type": "code",
   "execution_count": 64,
   "metadata": {},
   "outputs": [
    {
     "name": "stderr",
     "output_type": "stream",
     "text": [
      "/var/folders/1p/qb4fmbcx6d77fyp93p8h41v40000gn/T/ipykernel_739/1582931715.py:3: SettingWithCopyWarning: \n",
      "A value is trying to be set on a copy of a slice from a DataFrame.\n",
      "Try using .loc[row_indexer,col_indexer] = value instead\n",
      "\n",
      "See the caveats in the documentation: https://pandas.pydata.org/pandas-docs/stable/user_guide/indexing.html#returning-a-view-versus-a-copy\n",
      "  orders['profit_margin'] = orders.apply(lambda x: get_profit_margin(x['profit'], x['sales']), axis=1)\n"
     ]
    }
   ],
   "source": [
    "# B. Create a new column in the orders dataframe called 'profit_margin' by applying the profit margin function row-by-row\n",
    "\n",
    "orders['profit_margin'] = orders.apply(lambda x: get_profit_margin(x['profit'], x['sales']), axis=1)\n"
   ]
  },
  {
   "cell_type": "code",
   "execution_count": 65,
   "metadata": {},
   "outputs": [
    {
     "data": {
      "text/html": [
       "<div>\n",
       "<style scoped>\n",
       "    .dataframe tbody tr th:only-of-type {\n",
       "        vertical-align: middle;\n",
       "    }\n",
       "\n",
       "    .dataframe tbody tr th {\n",
       "        vertical-align: top;\n",
       "    }\n",
       "\n",
       "    .dataframe thead th {\n",
       "        text-align: right;\n",
       "    }\n",
       "</style>\n",
       "<table border=\"1\" class=\"dataframe\">\n",
       "  <thead>\n",
       "    <tr style=\"text-align: right;\">\n",
       "      <th></th>\n",
       "      <th>order_id</th>\n",
       "      <th>order_date</th>\n",
       "      <th>ship_date</th>\n",
       "      <th>ship_mode</th>\n",
       "      <th>customer_id</th>\n",
       "      <th>product_id</th>\n",
       "      <th>sales</th>\n",
       "      <th>quantity</th>\n",
       "      <th>discount</th>\n",
       "      <th>profit</th>\n",
       "      <th>postal_code</th>\n",
       "      <th>region_id</th>\n",
       "      <th>profit_margin</th>\n",
       "    </tr>\n",
       "  </thead>\n",
       "  <tbody>\n",
       "    <tr>\n",
       "      <th>0</th>\n",
       "      <td>AE-2016-1308551</td>\n",
       "      <td>2016-09-28</td>\n",
       "      <td>2016-10-02</td>\n",
       "      <td>Second Class</td>\n",
       "      <td>PO-8865</td>\n",
       "      <td>OFF-FEL-10001405</td>\n",
       "      <td>82.67</td>\n",
       "      <td>2</td>\n",
       "      <td>0.3</td>\n",
       "      <td>0.3</td>\n",
       "      <td>10001.0</td>\n",
       "      <td>9954.0</td>\n",
       "      <td>0.362889</td>\n",
       "    </tr>\n",
       "  </tbody>\n",
       "</table>\n",
       "</div>"
      ],
      "text/plain": [
       "          order_id  order_date   ship_date     ship_mode customer_id  \\\n",
       "0  AE-2016-1308551  2016-09-28  2016-10-02  Second Class     PO-8865   \n",
       "\n",
       "         product_id  sales  quantity  discount  profit  postal_code  \\\n",
       "0  OFF-FEL-10001405  82.67         2       0.3     0.3      10001.0   \n",
       "\n",
       "   region_id  profit_margin  \n",
       "0     9954.0       0.362889  "
      ]
     },
     "execution_count": 65,
     "metadata": {},
     "output_type": "execute_result"
    }
   ],
   "source": [
    "orders.head(1)"
   ]
  },
  {
   "cell_type": "code",
   "execution_count": 70,
   "metadata": {},
   "outputs": [
    {
     "name": "stderr",
     "output_type": "stream",
     "text": [
      "/var/folders/1p/qb4fmbcx6d77fyp93p8h41v40000gn/T/ipykernel_739/207643066.py:14: SettingWithCopyWarning: \n",
      "A value is trying to be set on a copy of a slice from a DataFrame.\n",
      "Try using .loc[row_indexer,col_indexer] = value instead\n",
      "\n",
      "See the caveats in the documentation: https://pandas.pydata.org/pandas-docs/stable/user_guide/indexing.html#returning-a-view-versus-a-copy\n",
      "  orders['margin_category'] = orders.apply(lambda x: get_margin_category(x['profit_margin']), axis=1)\n"
     ]
    },
    {
     "data": {
      "text/plain": [
       "0         profitable\n",
       "1         profitable\n",
       "2         profitable\n",
       "3         profitable\n",
       "4         profitable\n",
       "             ...    \n",
       "999986    profitable\n",
       "999987    profitable\n",
       "999988    profitable\n",
       "999989    profitable\n",
       "999990    profitable\n",
       "Name: margin_category, Length: 999795, dtype: object"
      ]
     },
     "execution_count": 70,
     "metadata": {},
     "output_type": "execute_result"
    }
   ],
   "source": [
    "# C. Use the same process to create a new column called margin_category\n",
    "# If the profit_margin is less than 0, the margin_category should be \"unprofitable\"\n",
    "# If the profit_margin is 0, the margin_category should be \"break even\"\n",
    "# If the profit_margin is above 0, the margin_category should \"profitable\"\n",
    "\n",
    "def get_margin_category(margin):\n",
    "    if margin < 0:\n",
    "        return \"unprofitable\"\n",
    "    elif margin == 0:\n",
    "        return \"break even\"\n",
    "    else:\n",
    "        return \"profitable\"\n",
    "\n",
    "orders['margin_category'] = orders.apply(lambda x: get_margin_category(x['profit_margin']), axis=1)\n",
    "\n",
    "orders['margin_category']"
   ]
  },
  {
   "cell_type": "code",
   "execution_count": 73,
   "metadata": {},
   "outputs": [
    {
     "data": {
      "text/plain": [
       "margin_category\n",
       "break even      110925\n",
       "profitable      876333\n",
       "unprofitable     12537\n",
       "Name: order_id, dtype: int64"
      ]
     },
     "execution_count": 73,
     "metadata": {},
     "output_type": "execute_result"
    }
   ],
   "source": [
    "# D. How many of our orders were unprofitable?\n",
    "\n",
    "orders.groupby('margin_category').count()['order_id']"
   ]
  },
  {
   "cell_type": "code",
   "execution_count": 12,
   "metadata": {},
   "outputs": [],
   "source": [
    "# 10.3 GroupBy Insights\n",
    "# Segment the following data and explore aggregate values to answer the following questions"
   ]
  },
  {
   "cell_type": "code",
   "execution_count": 81,
   "metadata": {
    "scrolled": false
   },
   "outputs": [
    {
     "data": {
      "text/html": [
       "<div>\n",
       "<style scoped>\n",
       "    .dataframe tbody tr th:only-of-type {\n",
       "        vertical-align: middle;\n",
       "    }\n",
       "\n",
       "    .dataframe tbody tr th {\n",
       "        vertical-align: top;\n",
       "    }\n",
       "\n",
       "    .dataframe thead th {\n",
       "        text-align: right;\n",
       "    }\n",
       "</style>\n",
       "<table border=\"1\" class=\"dataframe\">\n",
       "  <thead>\n",
       "    <tr style=\"text-align: right;\">\n",
       "      <th></th>\n",
       "      <th>quantity</th>\n",
       "    </tr>\n",
       "    <tr>\n",
       "      <th>discount</th>\n",
       "      <th></th>\n",
       "    </tr>\n",
       "  </thead>\n",
       "  <tbody>\n",
       "    <tr>\n",
       "      <th>0.63</th>\n",
       "      <td>4.605882</td>\n",
       "    </tr>\n",
       "    <tr>\n",
       "      <th>0.65</th>\n",
       "      <td>4.529412</td>\n",
       "    </tr>\n",
       "    <tr>\n",
       "      <th>0.67</th>\n",
       "      <td>3.947368</td>\n",
       "    </tr>\n",
       "    <tr>\n",
       "      <th>0.23</th>\n",
       "      <td>3.691551</td>\n",
       "    </tr>\n",
       "    <tr>\n",
       "      <th>0.25</th>\n",
       "      <td>3.636766</td>\n",
       "    </tr>\n",
       "    <tr>\n",
       "      <th>0.45</th>\n",
       "      <td>3.627625</td>\n",
       "    </tr>\n",
       "    <tr>\n",
       "      <th>0.22</th>\n",
       "      <td>3.625110</td>\n",
       "    </tr>\n",
       "    <tr>\n",
       "      <th>0.17</th>\n",
       "      <td>3.616540</td>\n",
       "    </tr>\n",
       "    <tr>\n",
       "      <th>0.43</th>\n",
       "      <td>3.606561</td>\n",
       "    </tr>\n",
       "    <tr>\n",
       "      <th>0.18</th>\n",
       "      <td>3.587600</td>\n",
       "    </tr>\n",
       "    <tr>\n",
       "      <th>0.35</th>\n",
       "      <td>3.579511</td>\n",
       "    </tr>\n",
       "    <tr>\n",
       "      <th>0.02</th>\n",
       "      <td>3.573216</td>\n",
       "    </tr>\n",
       "    <tr>\n",
       "      <th>0.20</th>\n",
       "      <td>3.562009</td>\n",
       "    </tr>\n",
       "    <tr>\n",
       "      <th>0.32</th>\n",
       "      <td>3.549155</td>\n",
       "    </tr>\n",
       "    <tr>\n",
       "      <th>0.42</th>\n",
       "      <td>3.548477</td>\n",
       "    </tr>\n",
       "    <tr>\n",
       "      <th>0.33</th>\n",
       "      <td>3.544851</td>\n",
       "    </tr>\n",
       "    <tr>\n",
       "      <th>0.08</th>\n",
       "      <td>3.541939</td>\n",
       "    </tr>\n",
       "    <tr>\n",
       "      <th>0.00</th>\n",
       "      <td>3.484164</td>\n",
       "    </tr>\n",
       "    <tr>\n",
       "      <th>0.03</th>\n",
       "      <td>3.483120</td>\n",
       "    </tr>\n",
       "    <tr>\n",
       "      <th>0.12</th>\n",
       "      <td>3.480770</td>\n",
       "    </tr>\n",
       "    <tr>\n",
       "      <th>0.05</th>\n",
       "      <td>3.451396</td>\n",
       "    </tr>\n",
       "    <tr>\n",
       "      <th>0.55</th>\n",
       "      <td>3.444453</td>\n",
       "    </tr>\n",
       "    <tr>\n",
       "      <th>0.30</th>\n",
       "      <td>3.443063</td>\n",
       "    </tr>\n",
       "    <tr>\n",
       "      <th>0.27</th>\n",
       "      <td>3.439228</td>\n",
       "    </tr>\n",
       "    <tr>\n",
       "      <th>0.28</th>\n",
       "      <td>3.438777</td>\n",
       "    </tr>\n",
       "    <tr>\n",
       "      <th>0.53</th>\n",
       "      <td>3.430725</td>\n",
       "    </tr>\n",
       "    <tr>\n",
       "      <th>0.15</th>\n",
       "      <td>3.410366</td>\n",
       "    </tr>\n",
       "    <tr>\n",
       "      <th>0.13</th>\n",
       "      <td>3.399471</td>\n",
       "    </tr>\n",
       "    <tr>\n",
       "      <th>0.10</th>\n",
       "      <td>3.389953</td>\n",
       "    </tr>\n",
       "    <tr>\n",
       "      <th>0.07</th>\n",
       "      <td>3.369449</td>\n",
       "    </tr>\n",
       "    <tr>\n",
       "      <th>0.52</th>\n",
       "      <td>3.354949</td>\n",
       "    </tr>\n",
       "    <tr>\n",
       "      <th>0.47</th>\n",
       "      <td>3.314011</td>\n",
       "    </tr>\n",
       "    <tr>\n",
       "      <th>0.50</th>\n",
       "      <td>3.288188</td>\n",
       "    </tr>\n",
       "    <tr>\n",
       "      <th>0.62</th>\n",
       "      <td>3.267081</td>\n",
       "    </tr>\n",
       "    <tr>\n",
       "      <th>0.37</th>\n",
       "      <td>3.246539</td>\n",
       "    </tr>\n",
       "    <tr>\n",
       "      <th>0.38</th>\n",
       "      <td>3.209500</td>\n",
       "    </tr>\n",
       "    <tr>\n",
       "      <th>0.48</th>\n",
       "      <td>3.128623</td>\n",
       "    </tr>\n",
       "    <tr>\n",
       "      <th>0.40</th>\n",
       "      <td>3.117381</td>\n",
       "    </tr>\n",
       "    <tr>\n",
       "      <th>0.60</th>\n",
       "      <td>2.978054</td>\n",
       "    </tr>\n",
       "    <tr>\n",
       "      <th>0.58</th>\n",
       "      <td>2.852047</td>\n",
       "    </tr>\n",
       "    <tr>\n",
       "      <th>0.57</th>\n",
       "      <td>2.843441</td>\n",
       "    </tr>\n",
       "  </tbody>\n",
       "</table>\n",
       "</div>"
      ],
      "text/plain": [
       "          quantity\n",
       "discount          \n",
       "0.63      4.605882\n",
       "0.65      4.529412\n",
       "0.67      3.947368\n",
       "0.23      3.691551\n",
       "0.25      3.636766\n",
       "0.45      3.627625\n",
       "0.22      3.625110\n",
       "0.17      3.616540\n",
       "0.43      3.606561\n",
       "0.18      3.587600\n",
       "0.35      3.579511\n",
       "0.02      3.573216\n",
       "0.20      3.562009\n",
       "0.32      3.549155\n",
       "0.42      3.548477\n",
       "0.33      3.544851\n",
       "0.08      3.541939\n",
       "0.00      3.484164\n",
       "0.03      3.483120\n",
       "0.12      3.480770\n",
       "0.05      3.451396\n",
       "0.55      3.444453\n",
       "0.30      3.443063\n",
       "0.27      3.439228\n",
       "0.28      3.438777\n",
       "0.53      3.430725\n",
       "0.15      3.410366\n",
       "0.13      3.399471\n",
       "0.10      3.389953\n",
       "0.07      3.369449\n",
       "0.52      3.354949\n",
       "0.47      3.314011\n",
       "0.50      3.288188\n",
       "0.62      3.267081\n",
       "0.37      3.246539\n",
       "0.38      3.209500\n",
       "0.48      3.128623\n",
       "0.40      3.117381\n",
       "0.60      2.978054\n",
       "0.58      2.852047\n",
       "0.57      2.843441"
      ]
     },
     "execution_count": 81,
     "metadata": {},
     "output_type": "execute_result"
    }
   ],
   "source": [
    "# A. Which discount results in the highest mean order quantity?\n",
    "\n",
    "orders.groupby('discount').mean()[['quantity']].sort_values(by='quantity', ascending=False)\n"
   ]
  },
  {
   "cell_type": "code",
   "execution_count": 82,
   "metadata": {
    "scrolled": true
   },
   "outputs": [
    {
     "data": {
      "text/html": [
       "<div>\n",
       "<style scoped>\n",
       "    .dataframe tbody tr th:only-of-type {\n",
       "        vertical-align: middle;\n",
       "    }\n",
       "\n",
       "    .dataframe tbody tr th {\n",
       "        vertical-align: top;\n",
       "    }\n",
       "\n",
       "    .dataframe thead th {\n",
       "        text-align: right;\n",
       "    }\n",
       "</style>\n",
       "<table border=\"1\" class=\"dataframe\">\n",
       "  <thead>\n",
       "    <tr style=\"text-align: right;\">\n",
       "      <th></th>\n",
       "      <th>discount</th>\n",
       "    </tr>\n",
       "    <tr>\n",
       "      <th>product_id</th>\n",
       "      <th></th>\n",
       "    </tr>\n",
       "  </thead>\n",
       "  <tbody>\n",
       "    <tr>\n",
       "      <th>OFF-AP-10002899</th>\n",
       "      <td>0.648485</td>\n",
       "    </tr>\n",
       "    <tr>\n",
       "      <th>OFF-AP-10004711</th>\n",
       "      <td>0.648333</td>\n",
       "    </tr>\n",
       "    <tr>\n",
       "      <th>OFF-AP-10002933</th>\n",
       "      <td>0.648148</td>\n",
       "    </tr>\n",
       "    <tr>\n",
       "      <th>OFF-AP-10001197</th>\n",
       "      <td>0.635769</td>\n",
       "    </tr>\n",
       "    <tr>\n",
       "      <th>OFF-AP-10002017</th>\n",
       "      <td>0.623214</td>\n",
       "    </tr>\n",
       "    <tr>\n",
       "      <th>...</th>\n",
       "      <td>...</td>\n",
       "    </tr>\n",
       "    <tr>\n",
       "      <th>OFF-FA-10003816</th>\n",
       "      <td>0.000000</td>\n",
       "    </tr>\n",
       "    <tr>\n",
       "      <th>OFF-PA-10000721</th>\n",
       "      <td>0.000000</td>\n",
       "    </tr>\n",
       "    <tr>\n",
       "      <th>TEC-AC-10003469</th>\n",
       "      <td>0.000000</td>\n",
       "    </tr>\n",
       "    <tr>\n",
       "      <th>TEC-AC-10004018</th>\n",
       "      <td>0.000000</td>\n",
       "    </tr>\n",
       "    <tr>\n",
       "      <th>OFF-EN-10000872</th>\n",
       "      <td>0.000000</td>\n",
       "    </tr>\n",
       "  </tbody>\n",
       "</table>\n",
       "<p>10292 rows × 1 columns</p>\n",
       "</div>"
      ],
      "text/plain": [
       "                 discount\n",
       "product_id               \n",
       "OFF-AP-10002899  0.648485\n",
       "OFF-AP-10004711  0.648333\n",
       "OFF-AP-10002933  0.648148\n",
       "OFF-AP-10001197  0.635769\n",
       "OFF-AP-10002017  0.623214\n",
       "...                   ...\n",
       "OFF-FA-10003816  0.000000\n",
       "OFF-PA-10000721  0.000000\n",
       "TEC-AC-10003469  0.000000\n",
       "TEC-AC-10004018  0.000000\n",
       "OFF-EN-10000872  0.000000\n",
       "\n",
       "[10292 rows x 1 columns]"
      ]
     },
     "execution_count": 82,
     "metadata": {},
     "output_type": "execute_result"
    }
   ],
   "source": [
    "# B. Which product has the highest mean price discount applied?\n",
    "\n",
    "orders.groupby('product_id').mean()[['discount']].sort_values(by='discount', ascending=False)"
   ]
  },
  {
   "cell_type": "code",
   "execution_count": 15,
   "metadata": {},
   "outputs": [
    {
     "data": {
      "text/html": [
       "<div>\n",
       "<style scoped>\n",
       "    .dataframe tbody tr th:only-of-type {\n",
       "        vertical-align: middle;\n",
       "    }\n",
       "\n",
       "    .dataframe tbody tr th {\n",
       "        vertical-align: top;\n",
       "    }\n",
       "\n",
       "    .dataframe thead th {\n",
       "        text-align: right;\n",
       "    }\n",
       "</style>\n",
       "<table border=\"1\" class=\"dataframe\">\n",
       "  <thead>\n",
       "    <tr style=\"text-align: right;\">\n",
       "      <th></th>\n",
       "      <th>Symbol</th>\n",
       "      <th>OpenPrice</th>\n",
       "      <th>52wkHigh</th>\n",
       "    </tr>\n",
       "  </thead>\n",
       "  <tbody>\n",
       "    <tr>\n",
       "      <th>0</th>\n",
       "      <td>AAPL</td>\n",
       "      <td>217.51</td>\n",
       "      <td>233.47</td>\n",
       "    </tr>\n",
       "    <tr>\n",
       "      <th>1</th>\n",
       "      <td>DHR</td>\n",
       "      <td>96.54</td>\n",
       "      <td>110.11</td>\n",
       "    </tr>\n",
       "    <tr>\n",
       "      <th>2</th>\n",
       "      <td>DAL</td>\n",
       "      <td>51.45</td>\n",
       "      <td>60.79</td>\n",
       "    </tr>\n",
       "    <tr>\n",
       "      <th>3</th>\n",
       "      <td>AMZN</td>\n",
       "      <td>1703.34</td>\n",
       "      <td>2050.49</td>\n",
       "    </tr>\n",
       "  </tbody>\n",
       "</table>\n",
       "</div>"
      ],
      "text/plain": [
       "  Symbol  OpenPrice  52wkHigh\n",
       "0   AAPL     217.51    233.47\n",
       "1    DHR      96.54    110.11\n",
       "2    DAL      51.45     60.79\n",
       "3   AMZN    1703.34   2050.49"
      ]
     },
     "execution_count": 15,
     "metadata": {},
     "output_type": "execute_result"
    }
   ],
   "source": [
    "# 10.4 Joining DataFrames\n",
    "# The below example joins our first two dataframes by their shared column, Symbol\n",
    "openprice = pd.DataFrame({'Symbol': ['AAPL', 'DHR', 'DAL', 'AMZN'], 'OpenPrice': [217.51, 96.54, 51.45, 1703.34]})\n",
    "wkhigh = pd.DataFrame({'Symbol': ['DAL', 'AMZN', 'AAPL', 'DHR'], '52wkHigh': [60.79, 2050.49, 233.47, 110.11]})\n",
    "combined = pd.merge(openprice, wkhigh, how=\"left\", left_on='Symbol', right_on='Symbol')\n",
    "combined.head()"
   ]
  },
  {
   "cell_type": "code",
   "execution_count": 16,
   "metadata": {
    "scrolled": false
   },
   "outputs": [],
   "source": [
    "# A. Join the stockname dataframe to our combined result and print the result\n",
    "stockname = pd.DataFrame({'Symbol': ['AMZN', 'DHR', 'DAL', 'AAPL'], 'Name': ['Amazon', 'Danaher', 'Delta Airlines', 'Apple']})\n"
   ]
  },
  {
   "cell_type": "code",
   "execution_count": null,
   "metadata": {},
   "outputs": [],
   "source": [
    "# B. Use the following tables from Super Store\n",
    "products = pd.read_csv('./datasets/products.csv')\n",
    "orders = pd.read_csv('./datasets/orders.csv')\n",
    "returns = pd.read_csv('./datasets/returns.csv')\n",
    "regions = pd.read_csv('./datasets/regions.csv')"
   ]
  },
  {
   "cell_type": "code",
   "execution_count": null,
   "metadata": {
    "scrolled": true
   },
   "outputs": [],
   "source": [
    "# i. We want to join the products and orders dataframes. \n",
    "#    Explore both dataframes to identify the common column between them\n",
    "#    Use a left join to combine the tables in a dataframe named orders_with_products\n"
   ]
  },
  {
   "cell_type": "code",
   "execution_count": null,
   "metadata": {},
   "outputs": [],
   "source": [
    "# ii. Left join the orders_with_products and returns dataframes\n"
   ]
  },
  {
   "cell_type": "code",
   "execution_count": null,
   "metadata": {},
   "outputs": [],
   "source": [
    "# iii. Finally, add the region data to our combined dataframe\n"
   ]
  },
  {
   "cell_type": "code",
   "execution_count": null,
   "metadata": {},
   "outputs": [],
   "source": [
    "# iv. Let's use this combined dataframe to determine the salesperson generating the most profit\n"
   ]
  }
 ],
 "metadata": {
  "kernelspec": {
   "display_name": "Python 3.10.4 64-bit",
   "language": "python",
   "name": "python3"
  },
  "language_info": {
   "codemirror_mode": {
    "name": "ipython",
    "version": 3
   },
   "file_extension": ".py",
   "mimetype": "text/x-python",
   "name": "python",
   "nbconvert_exporter": "python",
   "pygments_lexer": "ipython3",
   "version": "3.10.4"
  },
  "vscode": {
   "interpreter": {
    "hash": "aee8b7b246df8f9039afb4144a1f6fd8d2ca17a180786b69acc140d282b71a49"
   }
  }
 },
 "nbformat": 4,
 "nbformat_minor": 4
}
